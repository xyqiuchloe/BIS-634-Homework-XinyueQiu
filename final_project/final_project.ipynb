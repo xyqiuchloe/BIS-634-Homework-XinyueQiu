{
 "cells": [
  {
   "cell_type": "code",
   "execution_count": 5,
   "metadata": {},
   "outputs": [],
   "source": [
    "import pandas as pd\n",
    "import warnings\n",
    "import numpy as np\n",
    "# warnings.filterwarnings(\"ignore\")\n",
    "import seaborn as sns\n",
    "import matplotlib.pyplot as plt\n",
    "from sklearn.linear_model import LinearRegression\n",
    "from sklearn.model_selection import train_test_split\n",
    "from sklearn.preprocessing import StandardScaler\n",
    "from sklearn.model_selection import GridSearchCV\n",
    "from sklearn.linear_model import LogisticRegression\n",
    "from sklearn import metrics\n",
    "from sklearn.ensemble import RandomForestClassifier\n",
    "from sklearn.neighbors import KNeighborsClassifier\n",
    "from sklearn.metrics import accuracy_score,classification_report,plot_confusion_matrix\n",
    "import scikitplot as skplt\n",
    "import plotly.express as px"
   ]
  },
  {
   "attachments": {},
   "cell_type": "markdown",
   "metadata": {},
   "source": [
    "### Read Data"
   ]
  },
  {
   "cell_type": "code",
   "execution_count": 6,
   "metadata": {},
   "outputs": [],
   "source": [
    "data = pd.read_csv('health_data.csv')"
   ]
  },
  {
   "cell_type": "code",
   "execution_count": 36,
   "metadata": {},
   "outputs": [
    {
     "data": {
      "text/plain": [
       "<bound method NDFrame.head of         Age  Sex  HighChol  CholCheck   BMI  Smoker  HeartDiseaseorAttack  \\\n",
       "0       4.0  1.0       0.0        1.0  26.0     0.0                   0.0   \n",
       "1      12.0  1.0       1.0        1.0  26.0     1.0                   0.0   \n",
       "2      13.0  1.0       0.0        1.0  26.0     0.0                   0.0   \n",
       "3      11.0  1.0       1.0        1.0  28.0     1.0                   0.0   \n",
       "4       8.0  0.0       0.0        1.0  29.0     1.0                   0.0   \n",
       "...     ...  ...       ...        ...   ...     ...                   ...   \n",
       "70687   6.0  0.0       1.0        1.0  37.0     0.0                   0.0   \n",
       "70688  10.0  1.0       1.0        1.0  29.0     1.0                   1.0   \n",
       "70689  13.0  0.0       1.0        1.0  25.0     0.0                   1.0   \n",
       "70690  11.0  0.0       1.0        1.0  18.0     0.0                   0.0   \n",
       "70691   9.0  0.0       1.0        1.0  25.0     0.0                   1.0   \n",
       "\n",
       "       PhysActivity  Fruits  Veggies  HvyAlcoholConsump  GenHlth  MentHlth  \\\n",
       "0               1.0     0.0      1.0                0.0      3.0       5.0   \n",
       "1               0.0     1.0      0.0                0.0      3.0       0.0   \n",
       "2               1.0     1.0      1.0                0.0      1.0       0.0   \n",
       "3               1.0     1.0      1.0                0.0      3.0       0.0   \n",
       "4               1.0     1.0      1.0                0.0      2.0       0.0   \n",
       "...             ...     ...      ...                ...      ...       ...   \n",
       "70687           0.0     0.0      1.0                0.0      4.0       0.0   \n",
       "70688           0.0     1.0      1.0                0.0      2.0       0.0   \n",
       "70689           0.0     1.0      0.0                0.0      5.0      15.0   \n",
       "70690           0.0     0.0      0.0                0.0      4.0       0.0   \n",
       "70691           1.0     1.0      0.0                0.0      2.0       0.0   \n",
       "\n",
       "       PhysHlth  DiffWalk  Diabetes  Hypertension  Stroke  \n",
       "0          30.0       0.0       0.0           1.0     0.0  \n",
       "1           0.0       0.0       0.0           1.0     1.0  \n",
       "2          10.0       0.0       0.0           0.0     0.0  \n",
       "3           3.0       0.0       0.0           1.0     0.0  \n",
       "4           0.0       0.0       0.0           0.0     0.0  \n",
       "...         ...       ...       ...           ...     ...  \n",
       "70687       0.0       0.0       1.0           0.0     0.0  \n",
       "70688       0.0       1.0       1.0           0.0     0.0  \n",
       "70689       0.0       1.0       1.0           1.0     0.0  \n",
       "70690       0.0       1.0       1.0           1.0     0.0  \n",
       "70691       0.0       0.0       1.0           1.0     0.0  \n",
       "\n",
       "[70692 rows x 18 columns]>"
      ]
     },
     "execution_count": 36,
     "metadata": {},
     "output_type": "execute_result"
    }
   ],
   "source": [
    "data.head"
   ]
  },
  {
   "cell_type": "code",
   "execution_count": 37,
   "metadata": {},
   "outputs": [
    {
     "data": {
      "text/plain": [
       "(70692, 18)"
      ]
     },
     "execution_count": 37,
     "metadata": {},
     "output_type": "execute_result"
    }
   ],
   "source": [
    "data.shape"
   ]
  },
  {
   "attachments": {},
   "cell_type": "markdown",
   "metadata": {},
   "source": [
    "#### Data vars visualization:"
   ]
  },
  {
   "cell_type": "code",
   "execution_count": 38,
   "metadata": {},
   "outputs": [
    {
     "data": {
      "text/plain": [
       "Index(['Age', 'Sex', 'HighChol', 'CholCheck', 'BMI', 'Smoker',\n",
       "       'HeartDiseaseorAttack', 'PhysActivity', 'Fruits', 'Veggies',\n",
       "       'HvyAlcoholConsump', 'GenHlth', 'MentHlth', 'PhysHlth', 'DiffWalk',\n",
       "       'Diabetes', 'Hypertension', 'Stroke'],\n",
       "      dtype='object')"
      ]
     },
     "execution_count": 38,
     "metadata": {},
     "output_type": "execute_result"
    }
   ],
   "source": [
    "data.columns"
   ]
  },
  {
   "cell_type": "code",
   "execution_count": 7,
   "metadata": {},
   "outputs": [
    {
     "data": {
      "text/html": [
       "<div>\n",
       "<style scoped>\n",
       "    .dataframe tbody tr th:only-of-type {\n",
       "        vertical-align: middle;\n",
       "    }\n",
       "\n",
       "    .dataframe tbody tr th {\n",
       "        vertical-align: top;\n",
       "    }\n",
       "\n",
       "    .dataframe thead th {\n",
       "        text-align: right;\n",
       "    }\n",
       "</style>\n",
       "<table border=\"1\" class=\"dataframe\">\n",
       "  <thead>\n",
       "    <tr style=\"text-align: right;\">\n",
       "      <th></th>\n",
       "      <th>Age</th>\n",
       "      <th>Sex</th>\n",
       "      <th>HighChol</th>\n",
       "      <th>CholCheck</th>\n",
       "      <th>BMI</th>\n",
       "      <th>Smoker</th>\n",
       "      <th>HeartDiseaseorAttack</th>\n",
       "      <th>PhysActivity</th>\n",
       "      <th>Fruits</th>\n",
       "      <th>Veggies</th>\n",
       "      <th>HvyAlcoholConsump</th>\n",
       "      <th>GenHlth</th>\n",
       "      <th>MentHlth</th>\n",
       "      <th>PhysHlth</th>\n",
       "      <th>DiffWalk</th>\n",
       "      <th>Diabetes</th>\n",
       "      <th>Hypertension</th>\n",
       "      <th>Stroke</th>\n",
       "    </tr>\n",
       "  </thead>\n",
       "  <tbody>\n",
       "    <tr>\n",
       "      <th>count</th>\n",
       "      <td>70692.000000</td>\n",
       "      <td>70692.000000</td>\n",
       "      <td>70692.000000</td>\n",
       "      <td>70692.000000</td>\n",
       "      <td>70692.000000</td>\n",
       "      <td>70692.000000</td>\n",
       "      <td>70692.000000</td>\n",
       "      <td>70692.000000</td>\n",
       "      <td>70692.000000</td>\n",
       "      <td>70692.000000</td>\n",
       "      <td>70692.000000</td>\n",
       "      <td>70692.000000</td>\n",
       "      <td>70692.000000</td>\n",
       "      <td>70692.000000</td>\n",
       "      <td>70692.000000</td>\n",
       "      <td>70692.000000</td>\n",
       "      <td>70692.000000</td>\n",
       "      <td>70692.000000</td>\n",
       "    </tr>\n",
       "    <tr>\n",
       "      <th>mean</th>\n",
       "      <td>8.584055</td>\n",
       "      <td>0.456997</td>\n",
       "      <td>0.525703</td>\n",
       "      <td>0.975259</td>\n",
       "      <td>29.856985</td>\n",
       "      <td>0.475273</td>\n",
       "      <td>0.147810</td>\n",
       "      <td>0.703036</td>\n",
       "      <td>0.611795</td>\n",
       "      <td>0.788774</td>\n",
       "      <td>0.042721</td>\n",
       "      <td>2.837082</td>\n",
       "      <td>3.752037</td>\n",
       "      <td>5.810417</td>\n",
       "      <td>0.252730</td>\n",
       "      <td>0.500000</td>\n",
       "      <td>0.563458</td>\n",
       "      <td>0.062171</td>\n",
       "    </tr>\n",
       "    <tr>\n",
       "      <th>std</th>\n",
       "      <td>2.852153</td>\n",
       "      <td>0.498151</td>\n",
       "      <td>0.499342</td>\n",
       "      <td>0.155336</td>\n",
       "      <td>7.113954</td>\n",
       "      <td>0.499392</td>\n",
       "      <td>0.354914</td>\n",
       "      <td>0.456924</td>\n",
       "      <td>0.487345</td>\n",
       "      <td>0.408181</td>\n",
       "      <td>0.202228</td>\n",
       "      <td>1.113565</td>\n",
       "      <td>8.155627</td>\n",
       "      <td>10.062261</td>\n",
       "      <td>0.434581</td>\n",
       "      <td>0.500004</td>\n",
       "      <td>0.495960</td>\n",
       "      <td>0.241468</td>\n",
       "    </tr>\n",
       "    <tr>\n",
       "      <th>min</th>\n",
       "      <td>1.000000</td>\n",
       "      <td>0.000000</td>\n",
       "      <td>0.000000</td>\n",
       "      <td>0.000000</td>\n",
       "      <td>12.000000</td>\n",
       "      <td>0.000000</td>\n",
       "      <td>0.000000</td>\n",
       "      <td>0.000000</td>\n",
       "      <td>0.000000</td>\n",
       "      <td>0.000000</td>\n",
       "      <td>0.000000</td>\n",
       "      <td>1.000000</td>\n",
       "      <td>0.000000</td>\n",
       "      <td>0.000000</td>\n",
       "      <td>0.000000</td>\n",
       "      <td>0.000000</td>\n",
       "      <td>0.000000</td>\n",
       "      <td>0.000000</td>\n",
       "    </tr>\n",
       "    <tr>\n",
       "      <th>25%</th>\n",
       "      <td>7.000000</td>\n",
       "      <td>0.000000</td>\n",
       "      <td>0.000000</td>\n",
       "      <td>1.000000</td>\n",
       "      <td>25.000000</td>\n",
       "      <td>0.000000</td>\n",
       "      <td>0.000000</td>\n",
       "      <td>0.000000</td>\n",
       "      <td>0.000000</td>\n",
       "      <td>1.000000</td>\n",
       "      <td>0.000000</td>\n",
       "      <td>2.000000</td>\n",
       "      <td>0.000000</td>\n",
       "      <td>0.000000</td>\n",
       "      <td>0.000000</td>\n",
       "      <td>0.000000</td>\n",
       "      <td>0.000000</td>\n",
       "      <td>0.000000</td>\n",
       "    </tr>\n",
       "    <tr>\n",
       "      <th>50%</th>\n",
       "      <td>9.000000</td>\n",
       "      <td>0.000000</td>\n",
       "      <td>1.000000</td>\n",
       "      <td>1.000000</td>\n",
       "      <td>29.000000</td>\n",
       "      <td>0.000000</td>\n",
       "      <td>0.000000</td>\n",
       "      <td>1.000000</td>\n",
       "      <td>1.000000</td>\n",
       "      <td>1.000000</td>\n",
       "      <td>0.000000</td>\n",
       "      <td>3.000000</td>\n",
       "      <td>0.000000</td>\n",
       "      <td>0.000000</td>\n",
       "      <td>0.000000</td>\n",
       "      <td>0.500000</td>\n",
       "      <td>1.000000</td>\n",
       "      <td>0.000000</td>\n",
       "    </tr>\n",
       "    <tr>\n",
       "      <th>75%</th>\n",
       "      <td>11.000000</td>\n",
       "      <td>1.000000</td>\n",
       "      <td>1.000000</td>\n",
       "      <td>1.000000</td>\n",
       "      <td>33.000000</td>\n",
       "      <td>1.000000</td>\n",
       "      <td>0.000000</td>\n",
       "      <td>1.000000</td>\n",
       "      <td>1.000000</td>\n",
       "      <td>1.000000</td>\n",
       "      <td>0.000000</td>\n",
       "      <td>4.000000</td>\n",
       "      <td>2.000000</td>\n",
       "      <td>6.000000</td>\n",
       "      <td>1.000000</td>\n",
       "      <td>1.000000</td>\n",
       "      <td>1.000000</td>\n",
       "      <td>0.000000</td>\n",
       "    </tr>\n",
       "    <tr>\n",
       "      <th>max</th>\n",
       "      <td>13.000000</td>\n",
       "      <td>1.000000</td>\n",
       "      <td>1.000000</td>\n",
       "      <td>1.000000</td>\n",
       "      <td>98.000000</td>\n",
       "      <td>1.000000</td>\n",
       "      <td>1.000000</td>\n",
       "      <td>1.000000</td>\n",
       "      <td>1.000000</td>\n",
       "      <td>1.000000</td>\n",
       "      <td>1.000000</td>\n",
       "      <td>5.000000</td>\n",
       "      <td>30.000000</td>\n",
       "      <td>30.000000</td>\n",
       "      <td>1.000000</td>\n",
       "      <td>1.000000</td>\n",
       "      <td>1.000000</td>\n",
       "      <td>1.000000</td>\n",
       "    </tr>\n",
       "  </tbody>\n",
       "</table>\n",
       "</div>"
      ],
      "text/plain": [
       "                Age           Sex      HighChol     CholCheck           BMI  \\\n",
       "count  70692.000000  70692.000000  70692.000000  70692.000000  70692.000000   \n",
       "mean       8.584055      0.456997      0.525703      0.975259     29.856985   \n",
       "std        2.852153      0.498151      0.499342      0.155336      7.113954   \n",
       "min        1.000000      0.000000      0.000000      0.000000     12.000000   \n",
       "25%        7.000000      0.000000      0.000000      1.000000     25.000000   \n",
       "50%        9.000000      0.000000      1.000000      1.000000     29.000000   \n",
       "75%       11.000000      1.000000      1.000000      1.000000     33.000000   \n",
       "max       13.000000      1.000000      1.000000      1.000000     98.000000   \n",
       "\n",
       "             Smoker  HeartDiseaseorAttack  PhysActivity        Fruits  \\\n",
       "count  70692.000000          70692.000000  70692.000000  70692.000000   \n",
       "mean       0.475273              0.147810      0.703036      0.611795   \n",
       "std        0.499392              0.354914      0.456924      0.487345   \n",
       "min        0.000000              0.000000      0.000000      0.000000   \n",
       "25%        0.000000              0.000000      0.000000      0.000000   \n",
       "50%        0.000000              0.000000      1.000000      1.000000   \n",
       "75%        1.000000              0.000000      1.000000      1.000000   \n",
       "max        1.000000              1.000000      1.000000      1.000000   \n",
       "\n",
       "            Veggies  HvyAlcoholConsump       GenHlth      MentHlth  \\\n",
       "count  70692.000000       70692.000000  70692.000000  70692.000000   \n",
       "mean       0.788774           0.042721      2.837082      3.752037   \n",
       "std        0.408181           0.202228      1.113565      8.155627   \n",
       "min        0.000000           0.000000      1.000000      0.000000   \n",
       "25%        1.000000           0.000000      2.000000      0.000000   \n",
       "50%        1.000000           0.000000      3.000000      0.000000   \n",
       "75%        1.000000           0.000000      4.000000      2.000000   \n",
       "max        1.000000           1.000000      5.000000     30.000000   \n",
       "\n",
       "           PhysHlth      DiffWalk      Diabetes  Hypertension        Stroke  \n",
       "count  70692.000000  70692.000000  70692.000000  70692.000000  70692.000000  \n",
       "mean       5.810417      0.252730      0.500000      0.563458      0.062171  \n",
       "std       10.062261      0.434581      0.500004      0.495960      0.241468  \n",
       "min        0.000000      0.000000      0.000000      0.000000      0.000000  \n",
       "25%        0.000000      0.000000      0.000000      0.000000      0.000000  \n",
       "50%        0.000000      0.000000      0.500000      1.000000      0.000000  \n",
       "75%        6.000000      1.000000      1.000000      1.000000      0.000000  \n",
       "max       30.000000      1.000000      1.000000      1.000000      1.000000  "
      ]
     },
     "execution_count": 7,
     "metadata": {},
     "output_type": "execute_result"
    }
   ],
   "source": [
    "data.describe()"
   ]
  },
  {
   "cell_type": "code",
   "execution_count": 19,
   "metadata": {},
   "outputs": [
    {
     "data": {
      "text/html": [
       "<div>\n",
       "<style scoped>\n",
       "    .dataframe tbody tr th:only-of-type {\n",
       "        vertical-align: middle;\n",
       "    }\n",
       "\n",
       "    .dataframe tbody tr th {\n",
       "        vertical-align: top;\n",
       "    }\n",
       "\n",
       "    .dataframe thead th {\n",
       "        text-align: right;\n",
       "    }\n",
       "</style>\n",
       "<table border=\"1\" class=\"dataframe\">\n",
       "  <thead>\n",
       "    <tr style=\"text-align: right;\">\n",
       "      <th></th>\n",
       "      <th>Age</th>\n",
       "      <th>Sex</th>\n",
       "      <th>HighChol</th>\n",
       "      <th>CholCheck</th>\n",
       "      <th>BMI</th>\n",
       "      <th>Smoker</th>\n",
       "      <th>HeartDiseaseorAttack</th>\n",
       "      <th>PhysActivity</th>\n",
       "      <th>Fruits</th>\n",
       "      <th>Veggies</th>\n",
       "      <th>HvyAlcoholConsump</th>\n",
       "      <th>GenHlth</th>\n",
       "      <th>MentHlth</th>\n",
       "      <th>PhysHlth</th>\n",
       "      <th>DiffWalk</th>\n",
       "      <th>Diabetes</th>\n",
       "      <th>Hypertension</th>\n",
       "      <th>Stroke</th>\n",
       "    </tr>\n",
       "  </thead>\n",
       "  <tbody>\n",
       "    <tr>\n",
       "      <th>Age</th>\n",
       "      <td>1.000000</td>\n",
       "      <td>-0.002315</td>\n",
       "      <td>0.240338</td>\n",
       "      <td>0.101743</td>\n",
       "      <td>-0.038648</td>\n",
       "      <td>0.105424</td>\n",
       "      <td>0.221878</td>\n",
       "      <td>-0.100753</td>\n",
       "      <td>0.061096</td>\n",
       "      <td>-0.018893</td>\n",
       "      <td>-0.057705</td>\n",
       "      <td>0.155624</td>\n",
       "      <td>-0.101746</td>\n",
       "      <td>0.084852</td>\n",
       "      <td>0.195265</td>\n",
       "      <td>0.278738</td>\n",
       "      <td>0.338132</td>\n",
       "      <td>0.123879</td>\n",
       "    </tr>\n",
       "    <tr>\n",
       "      <th>Sex</th>\n",
       "      <td>-0.002315</td>\n",
       "      <td>1.000000</td>\n",
       "      <td>0.017324</td>\n",
       "      <td>-0.007991</td>\n",
       "      <td>0.000827</td>\n",
       "      <td>0.112125</td>\n",
       "      <td>0.098161</td>\n",
       "      <td>0.051753</td>\n",
       "      <td>-0.088723</td>\n",
       "      <td>-0.052604</td>\n",
       "      <td>0.014164</td>\n",
       "      <td>-0.014555</td>\n",
       "      <td>-0.089204</td>\n",
       "      <td>-0.045957</td>\n",
       "      <td>-0.082248</td>\n",
       "      <td>0.044413</td>\n",
       "      <td>0.040819</td>\n",
       "      <td>0.003822</td>\n",
       "    </tr>\n",
       "    <tr>\n",
       "      <th>HighChol</th>\n",
       "      <td>0.240338</td>\n",
       "      <td>0.017324</td>\n",
       "      <td>1.000000</td>\n",
       "      <td>0.085981</td>\n",
       "      <td>0.131309</td>\n",
       "      <td>0.093398</td>\n",
       "      <td>0.181187</td>\n",
       "      <td>-0.090453</td>\n",
       "      <td>-0.047384</td>\n",
       "      <td>-0.042836</td>\n",
       "      <td>-0.025443</td>\n",
       "      <td>0.237778</td>\n",
       "      <td>0.083881</td>\n",
       "      <td>0.142610</td>\n",
       "      <td>0.162043</td>\n",
       "      <td>0.289213</td>\n",
       "      <td>0.316515</td>\n",
       "      <td>0.099786</td>\n",
       "    </tr>\n",
       "    <tr>\n",
       "      <th>CholCheck</th>\n",
       "      <td>0.101743</td>\n",
       "      <td>-0.007991</td>\n",
       "      <td>0.085981</td>\n",
       "      <td>1.000000</td>\n",
       "      <td>0.045648</td>\n",
       "      <td>-0.004331</td>\n",
       "      <td>0.043497</td>\n",
       "      <td>-0.008249</td>\n",
       "      <td>0.017384</td>\n",
       "      <td>0.000349</td>\n",
       "      <td>-0.027146</td>\n",
       "      <td>0.059213</td>\n",
       "      <td>-0.010660</td>\n",
       "      <td>0.034540</td>\n",
       "      <td>0.044430</td>\n",
       "      <td>0.115382</td>\n",
       "      <td>0.103283</td>\n",
       "      <td>0.022529</td>\n",
       "    </tr>\n",
       "    <tr>\n",
       "      <th>BMI</th>\n",
       "      <td>-0.038648</td>\n",
       "      <td>0.000827</td>\n",
       "      <td>0.131309</td>\n",
       "      <td>0.045648</td>\n",
       "      <td>1.000000</td>\n",
       "      <td>0.011551</td>\n",
       "      <td>0.060355</td>\n",
       "      <td>-0.170936</td>\n",
       "      <td>-0.084505</td>\n",
       "      <td>-0.056528</td>\n",
       "      <td>-0.058232</td>\n",
       "      <td>0.267888</td>\n",
       "      <td>0.104682</td>\n",
       "      <td>0.161862</td>\n",
       "      <td>0.246094</td>\n",
       "      <td>0.293373</td>\n",
       "      <td>0.241019</td>\n",
       "      <td>0.022931</td>\n",
       "    </tr>\n",
       "    <tr>\n",
       "      <th>Smoker</th>\n",
       "      <td>0.105424</td>\n",
       "      <td>0.112125</td>\n",
       "      <td>0.093398</td>\n",
       "      <td>-0.004331</td>\n",
       "      <td>0.011551</td>\n",
       "      <td>1.000000</td>\n",
       "      <td>0.124418</td>\n",
       "      <td>-0.079823</td>\n",
       "      <td>-0.074811</td>\n",
       "      <td>-0.029926</td>\n",
       "      <td>0.077835</td>\n",
       "      <td>0.152416</td>\n",
       "      <td>0.091257</td>\n",
       "      <td>0.120698</td>\n",
       "      <td>0.119789</td>\n",
       "      <td>0.085999</td>\n",
       "      <td>0.087438</td>\n",
       "      <td>0.064658</td>\n",
       "    </tr>\n",
       "    <tr>\n",
       "      <th>HeartDiseaseorAttack</th>\n",
       "      <td>0.221878</td>\n",
       "      <td>0.098161</td>\n",
       "      <td>0.181187</td>\n",
       "      <td>0.043497</td>\n",
       "      <td>0.060355</td>\n",
       "      <td>0.124418</td>\n",
       "      <td>1.000000</td>\n",
       "      <td>-0.098223</td>\n",
       "      <td>-0.019436</td>\n",
       "      <td>-0.036315</td>\n",
       "      <td>-0.037130</td>\n",
       "      <td>0.275868</td>\n",
       "      <td>0.075057</td>\n",
       "      <td>0.198416</td>\n",
       "      <td>0.232611</td>\n",
       "      <td>0.211523</td>\n",
       "      <td>0.210750</td>\n",
       "      <td>0.223394</td>\n",
       "    </tr>\n",
       "    <tr>\n",
       "      <th>PhysActivity</th>\n",
       "      <td>-0.100753</td>\n",
       "      <td>0.051753</td>\n",
       "      <td>-0.090453</td>\n",
       "      <td>-0.008249</td>\n",
       "      <td>-0.170936</td>\n",
       "      <td>-0.079823</td>\n",
       "      <td>-0.098223</td>\n",
       "      <td>1.000000</td>\n",
       "      <td>0.133813</td>\n",
       "      <td>0.149322</td>\n",
       "      <td>0.019111</td>\n",
       "      <td>-0.273548</td>\n",
       "      <td>-0.130090</td>\n",
       "      <td>-0.234500</td>\n",
       "      <td>-0.276868</td>\n",
       "      <td>-0.158666</td>\n",
       "      <td>-0.136102</td>\n",
       "      <td>-0.079985</td>\n",
       "    </tr>\n",
       "    <tr>\n",
       "      <th>Fruits</th>\n",
       "      <td>0.061096</td>\n",
       "      <td>-0.088723</td>\n",
       "      <td>-0.047384</td>\n",
       "      <td>0.017384</td>\n",
       "      <td>-0.084505</td>\n",
       "      <td>-0.074811</td>\n",
       "      <td>-0.019436</td>\n",
       "      <td>0.133813</td>\n",
       "      <td>1.000000</td>\n",
       "      <td>0.238605</td>\n",
       "      <td>-0.033246</td>\n",
       "      <td>-0.098687</td>\n",
       "      <td>-0.062102</td>\n",
       "      <td>-0.048572</td>\n",
       "      <td>-0.050784</td>\n",
       "      <td>-0.054077</td>\n",
       "      <td>-0.040852</td>\n",
       "      <td>-0.008996</td>\n",
       "    </tr>\n",
       "    <tr>\n",
       "      <th>Veggies</th>\n",
       "      <td>-0.018893</td>\n",
       "      <td>-0.052604</td>\n",
       "      <td>-0.042836</td>\n",
       "      <td>0.000349</td>\n",
       "      <td>-0.056528</td>\n",
       "      <td>-0.029926</td>\n",
       "      <td>-0.036315</td>\n",
       "      <td>0.149322</td>\n",
       "      <td>0.238605</td>\n",
       "      <td>1.000000</td>\n",
       "      <td>0.022090</td>\n",
       "      <td>-0.115795</td>\n",
       "      <td>-0.052359</td>\n",
       "      <td>-0.066896</td>\n",
       "      <td>-0.084072</td>\n",
       "      <td>-0.079293</td>\n",
       "      <td>-0.066624</td>\n",
       "      <td>-0.047601</td>\n",
       "    </tr>\n",
       "    <tr>\n",
       "      <th>HvyAlcoholConsump</th>\n",
       "      <td>-0.057705</td>\n",
       "      <td>0.014164</td>\n",
       "      <td>-0.025443</td>\n",
       "      <td>-0.027146</td>\n",
       "      <td>-0.058232</td>\n",
       "      <td>0.077835</td>\n",
       "      <td>-0.037130</td>\n",
       "      <td>0.019111</td>\n",
       "      <td>-0.033246</td>\n",
       "      <td>0.022090</td>\n",
       "      <td>1.000000</td>\n",
       "      <td>-0.058796</td>\n",
       "      <td>0.015626</td>\n",
       "      <td>-0.036257</td>\n",
       "      <td>-0.049294</td>\n",
       "      <td>-0.094853</td>\n",
       "      <td>-0.027030</td>\n",
       "      <td>-0.023395</td>\n",
       "    </tr>\n",
       "    <tr>\n",
       "      <th>GenHlth</th>\n",
       "      <td>0.155624</td>\n",
       "      <td>-0.014555</td>\n",
       "      <td>0.237778</td>\n",
       "      <td>0.059213</td>\n",
       "      <td>0.267888</td>\n",
       "      <td>0.152416</td>\n",
       "      <td>0.275868</td>\n",
       "      <td>-0.273548</td>\n",
       "      <td>-0.098687</td>\n",
       "      <td>-0.115795</td>\n",
       "      <td>-0.058796</td>\n",
       "      <td>1.000000</td>\n",
       "      <td>0.315077</td>\n",
       "      <td>0.552757</td>\n",
       "      <td>0.476639</td>\n",
       "      <td>0.407612</td>\n",
       "      <td>0.320540</td>\n",
       "      <td>0.189447</td>\n",
       "    </tr>\n",
       "    <tr>\n",
       "      <th>MentHlth</th>\n",
       "      <td>-0.101746</td>\n",
       "      <td>-0.089204</td>\n",
       "      <td>0.083881</td>\n",
       "      <td>-0.010660</td>\n",
       "      <td>0.104682</td>\n",
       "      <td>0.091257</td>\n",
       "      <td>0.075057</td>\n",
       "      <td>-0.130090</td>\n",
       "      <td>-0.062102</td>\n",
       "      <td>-0.052359</td>\n",
       "      <td>0.015626</td>\n",
       "      <td>0.315077</td>\n",
       "      <td>1.000000</td>\n",
       "      <td>0.380272</td>\n",
       "      <td>0.251489</td>\n",
       "      <td>0.087029</td>\n",
       "      <td>0.064294</td>\n",
       "      <td>0.087303</td>\n",
       "    </tr>\n",
       "    <tr>\n",
       "      <th>PhysHlth</th>\n",
       "      <td>0.084852</td>\n",
       "      <td>-0.045957</td>\n",
       "      <td>0.142610</td>\n",
       "      <td>0.034540</td>\n",
       "      <td>0.161862</td>\n",
       "      <td>0.120698</td>\n",
       "      <td>0.198416</td>\n",
       "      <td>-0.234500</td>\n",
       "      <td>-0.048572</td>\n",
       "      <td>-0.066896</td>\n",
       "      <td>-0.036257</td>\n",
       "      <td>0.552757</td>\n",
       "      <td>0.380272</td>\n",
       "      <td>1.000000</td>\n",
       "      <td>0.487976</td>\n",
       "      <td>0.213081</td>\n",
       "      <td>0.173922</td>\n",
       "      <td>0.164488</td>\n",
       "    </tr>\n",
       "    <tr>\n",
       "      <th>DiffWalk</th>\n",
       "      <td>0.195265</td>\n",
       "      <td>-0.082248</td>\n",
       "      <td>0.162043</td>\n",
       "      <td>0.044430</td>\n",
       "      <td>0.246094</td>\n",
       "      <td>0.119789</td>\n",
       "      <td>0.232611</td>\n",
       "      <td>-0.276868</td>\n",
       "      <td>-0.050784</td>\n",
       "      <td>-0.084072</td>\n",
       "      <td>-0.049294</td>\n",
       "      <td>0.476639</td>\n",
       "      <td>0.251489</td>\n",
       "      <td>0.487976</td>\n",
       "      <td>1.000000</td>\n",
       "      <td>0.272646</td>\n",
       "      <td>0.234784</td>\n",
       "      <td>0.192266</td>\n",
       "    </tr>\n",
       "    <tr>\n",
       "      <th>Diabetes</th>\n",
       "      <td>0.278738</td>\n",
       "      <td>0.044413</td>\n",
       "      <td>0.289213</td>\n",
       "      <td>0.115382</td>\n",
       "      <td>0.293373</td>\n",
       "      <td>0.085999</td>\n",
       "      <td>0.211523</td>\n",
       "      <td>-0.158666</td>\n",
       "      <td>-0.054077</td>\n",
       "      <td>-0.079293</td>\n",
       "      <td>-0.094853</td>\n",
       "      <td>0.407612</td>\n",
       "      <td>0.087029</td>\n",
       "      <td>0.213081</td>\n",
       "      <td>0.272646</td>\n",
       "      <td>1.000000</td>\n",
       "      <td>0.381516</td>\n",
       "      <td>0.125427</td>\n",
       "    </tr>\n",
       "    <tr>\n",
       "      <th>Hypertension</th>\n",
       "      <td>0.338132</td>\n",
       "      <td>0.040819</td>\n",
       "      <td>0.316515</td>\n",
       "      <td>0.103283</td>\n",
       "      <td>0.241019</td>\n",
       "      <td>0.087438</td>\n",
       "      <td>0.210750</td>\n",
       "      <td>-0.136102</td>\n",
       "      <td>-0.040852</td>\n",
       "      <td>-0.066624</td>\n",
       "      <td>-0.027030</td>\n",
       "      <td>0.320540</td>\n",
       "      <td>0.064294</td>\n",
       "      <td>0.173922</td>\n",
       "      <td>0.234784</td>\n",
       "      <td>0.381516</td>\n",
       "      <td>1.000000</td>\n",
       "      <td>0.129060</td>\n",
       "    </tr>\n",
       "    <tr>\n",
       "      <th>Stroke</th>\n",
       "      <td>0.123879</td>\n",
       "      <td>0.003822</td>\n",
       "      <td>0.099786</td>\n",
       "      <td>0.022529</td>\n",
       "      <td>0.022931</td>\n",
       "      <td>0.064658</td>\n",
       "      <td>0.223394</td>\n",
       "      <td>-0.079985</td>\n",
       "      <td>-0.008996</td>\n",
       "      <td>-0.047601</td>\n",
       "      <td>-0.023395</td>\n",
       "      <td>0.189447</td>\n",
       "      <td>0.087303</td>\n",
       "      <td>0.164488</td>\n",
       "      <td>0.192266</td>\n",
       "      <td>0.125427</td>\n",
       "      <td>0.129060</td>\n",
       "      <td>1.000000</td>\n",
       "    </tr>\n",
       "  </tbody>\n",
       "</table>\n",
       "</div>"
      ],
      "text/plain": [
       "                           Age       Sex  HighChol  CholCheck       BMI  \\\n",
       "Age                   1.000000 -0.002315  0.240338   0.101743 -0.038648   \n",
       "Sex                  -0.002315  1.000000  0.017324  -0.007991  0.000827   \n",
       "HighChol              0.240338  0.017324  1.000000   0.085981  0.131309   \n",
       "CholCheck             0.101743 -0.007991  0.085981   1.000000  0.045648   \n",
       "BMI                  -0.038648  0.000827  0.131309   0.045648  1.000000   \n",
       "Smoker                0.105424  0.112125  0.093398  -0.004331  0.011551   \n",
       "HeartDiseaseorAttack  0.221878  0.098161  0.181187   0.043497  0.060355   \n",
       "PhysActivity         -0.100753  0.051753 -0.090453  -0.008249 -0.170936   \n",
       "Fruits                0.061096 -0.088723 -0.047384   0.017384 -0.084505   \n",
       "Veggies              -0.018893 -0.052604 -0.042836   0.000349 -0.056528   \n",
       "HvyAlcoholConsump    -0.057705  0.014164 -0.025443  -0.027146 -0.058232   \n",
       "GenHlth               0.155624 -0.014555  0.237778   0.059213  0.267888   \n",
       "MentHlth             -0.101746 -0.089204  0.083881  -0.010660  0.104682   \n",
       "PhysHlth              0.084852 -0.045957  0.142610   0.034540  0.161862   \n",
       "DiffWalk              0.195265 -0.082248  0.162043   0.044430  0.246094   \n",
       "Diabetes              0.278738  0.044413  0.289213   0.115382  0.293373   \n",
       "Hypertension          0.338132  0.040819  0.316515   0.103283  0.241019   \n",
       "Stroke                0.123879  0.003822  0.099786   0.022529  0.022931   \n",
       "\n",
       "                        Smoker  HeartDiseaseorAttack  PhysActivity    Fruits  \\\n",
       "Age                   0.105424              0.221878     -0.100753  0.061096   \n",
       "Sex                   0.112125              0.098161      0.051753 -0.088723   \n",
       "HighChol              0.093398              0.181187     -0.090453 -0.047384   \n",
       "CholCheck            -0.004331              0.043497     -0.008249  0.017384   \n",
       "BMI                   0.011551              0.060355     -0.170936 -0.084505   \n",
       "Smoker                1.000000              0.124418     -0.079823 -0.074811   \n",
       "HeartDiseaseorAttack  0.124418              1.000000     -0.098223 -0.019436   \n",
       "PhysActivity         -0.079823             -0.098223      1.000000  0.133813   \n",
       "Fruits               -0.074811             -0.019436      0.133813  1.000000   \n",
       "Veggies              -0.029926             -0.036315      0.149322  0.238605   \n",
       "HvyAlcoholConsump     0.077835             -0.037130      0.019111 -0.033246   \n",
       "GenHlth               0.152416              0.275868     -0.273548 -0.098687   \n",
       "MentHlth              0.091257              0.075057     -0.130090 -0.062102   \n",
       "PhysHlth              0.120698              0.198416     -0.234500 -0.048572   \n",
       "DiffWalk              0.119789              0.232611     -0.276868 -0.050784   \n",
       "Diabetes              0.085999              0.211523     -0.158666 -0.054077   \n",
       "Hypertension          0.087438              0.210750     -0.136102 -0.040852   \n",
       "Stroke                0.064658              0.223394     -0.079985 -0.008996   \n",
       "\n",
       "                       Veggies  HvyAlcoholConsump   GenHlth  MentHlth  \\\n",
       "Age                  -0.018893          -0.057705  0.155624 -0.101746   \n",
       "Sex                  -0.052604           0.014164 -0.014555 -0.089204   \n",
       "HighChol             -0.042836          -0.025443  0.237778  0.083881   \n",
       "CholCheck             0.000349          -0.027146  0.059213 -0.010660   \n",
       "BMI                  -0.056528          -0.058232  0.267888  0.104682   \n",
       "Smoker               -0.029926           0.077835  0.152416  0.091257   \n",
       "HeartDiseaseorAttack -0.036315          -0.037130  0.275868  0.075057   \n",
       "PhysActivity          0.149322           0.019111 -0.273548 -0.130090   \n",
       "Fruits                0.238605          -0.033246 -0.098687 -0.062102   \n",
       "Veggies               1.000000           0.022090 -0.115795 -0.052359   \n",
       "HvyAlcoholConsump     0.022090           1.000000 -0.058796  0.015626   \n",
       "GenHlth              -0.115795          -0.058796  1.000000  0.315077   \n",
       "MentHlth             -0.052359           0.015626  0.315077  1.000000   \n",
       "PhysHlth             -0.066896          -0.036257  0.552757  0.380272   \n",
       "DiffWalk             -0.084072          -0.049294  0.476639  0.251489   \n",
       "Diabetes             -0.079293          -0.094853  0.407612  0.087029   \n",
       "Hypertension         -0.066624          -0.027030  0.320540  0.064294   \n",
       "Stroke               -0.047601          -0.023395  0.189447  0.087303   \n",
       "\n",
       "                      PhysHlth  DiffWalk  Diabetes  Hypertension    Stroke  \n",
       "Age                   0.084852  0.195265  0.278738      0.338132  0.123879  \n",
       "Sex                  -0.045957 -0.082248  0.044413      0.040819  0.003822  \n",
       "HighChol              0.142610  0.162043  0.289213      0.316515  0.099786  \n",
       "CholCheck             0.034540  0.044430  0.115382      0.103283  0.022529  \n",
       "BMI                   0.161862  0.246094  0.293373      0.241019  0.022931  \n",
       "Smoker                0.120698  0.119789  0.085999      0.087438  0.064658  \n",
       "HeartDiseaseorAttack  0.198416  0.232611  0.211523      0.210750  0.223394  \n",
       "PhysActivity         -0.234500 -0.276868 -0.158666     -0.136102 -0.079985  \n",
       "Fruits               -0.048572 -0.050784 -0.054077     -0.040852 -0.008996  \n",
       "Veggies              -0.066896 -0.084072 -0.079293     -0.066624 -0.047601  \n",
       "HvyAlcoholConsump    -0.036257 -0.049294 -0.094853     -0.027030 -0.023395  \n",
       "GenHlth               0.552757  0.476639  0.407612      0.320540  0.189447  \n",
       "MentHlth              0.380272  0.251489  0.087029      0.064294  0.087303  \n",
       "PhysHlth              1.000000  0.487976  0.213081      0.173922  0.164488  \n",
       "DiffWalk              0.487976  1.000000  0.272646      0.234784  0.192266  \n",
       "Diabetes              0.213081  0.272646  1.000000      0.381516  0.125427  \n",
       "Hypertension          0.173922  0.234784  0.381516      1.000000  0.129060  \n",
       "Stroke                0.164488  0.192266  0.125427      0.129060  1.000000  "
      ]
     },
     "execution_count": 19,
     "metadata": {},
     "output_type": "execute_result"
    }
   ],
   "source": [
    "corr"
   ]
  },
  {
   "cell_type": "code",
   "execution_count": 18,
   "metadata": {},
   "outputs": [
    {
     "data": {
      "text/plain": [
       "<AxesSubplot:>"
      ]
     },
     "execution_count": 18,
     "metadata": {},
     "output_type": "execute_result"
    },
    {
     "data": {
      "image/png": "[encoded data removed]",
      "text/plain": [
       "<Figure size 1080x720 with 2 Axes>"
      ]
     },
     "metadata": {
      "needs_background": "light"
     },
     "output_type": "display_data"
    }
   ],
   "source": [
    "plt.figure(figsize=(15,10))\n",
    "corr = data[data.columns].corr()\n",
    "sns.heatmap(corr, annot=True,cmap='Blues_r',\n",
    "            xticklabels=corr.columns.values,\n",
    "            yticklabels=corr.columns.values)"
   ]
  },
  {
   "cell_type": "code",
   "execution_count": 40,
   "metadata": {},
   "outputs": [
    {
     "data": {
      "text/plain": [
       "Index(['Age', 'Sex', 'HighChol', 'CholCheck', 'BMI', 'Smoker',\n",
       "       'HeartDiseaseorAttack', 'PhysActivity', 'Fruits', 'Veggies',\n",
       "       'HvyAlcoholConsump', 'GenHlth', 'MentHlth', 'PhysHlth', 'DiffWalk',\n",
       "       'Diabetes', 'Hypertension', 'Stroke'],\n",
       "      dtype='object')"
      ]
     },
     "execution_count": 40,
     "metadata": {},
     "output_type": "execute_result"
    }
   ],
   "source": [
    "data.columns"
   ]
  },
  {
   "cell_type": "code",
   "execution_count": 8,
   "metadata": {},
   "outputs": [],
   "source": [
    "bin_var = ['Sex', 'HighChol', 'CholCheck',  'Smoker',\n",
    "       'HeartDiseaseorAttack', 'PhysActivity', 'Fruits', 'Veggies',\n",
    "       'HvyAlcoholConsump', 'DiffWalk',\n",
    "       'Diabetes', 'Hypertension', 'Stroke']\n",
    "cont_var = ['Age','BMI','GenHlth', 'MentHlth', 'PhysHlth']"
   ]
  },
  {
   "cell_type": "code",
   "execution_count": 9,
   "metadata": {},
   "outputs": [
    {
     "data": {
      "text/html": [
       "<div>\n",
       "<style scoped>\n",
       "    .dataframe tbody tr th:only-of-type {\n",
       "        vertical-align: middle;\n",
       "    }\n",
       "\n",
       "    .dataframe tbody tr th {\n",
       "        vertical-align: top;\n",
       "    }\n",
       "\n",
       "    .dataframe thead th {\n",
       "        text-align: right;\n",
       "    }\n",
       "</style>\n",
       "<table border=\"1\" class=\"dataframe\">\n",
       "  <thead>\n",
       "    <tr style=\"text-align: right;\">\n",
       "      <th></th>\n",
       "      <th>Age</th>\n",
       "      <th>BMI</th>\n",
       "      <th>GenHlth</th>\n",
       "      <th>MentHlth</th>\n",
       "      <th>PhysHlth</th>\n",
       "    </tr>\n",
       "  </thead>\n",
       "  <tbody>\n",
       "    <tr>\n",
       "      <th>count</th>\n",
       "      <td>70692.000000</td>\n",
       "      <td>70692.000000</td>\n",
       "      <td>70692.000000</td>\n",
       "      <td>70692.000000</td>\n",
       "      <td>70692.000000</td>\n",
       "    </tr>\n",
       "    <tr>\n",
       "      <th>mean</th>\n",
       "      <td>8.584055</td>\n",
       "      <td>29.856985</td>\n",
       "      <td>2.837082</td>\n",
       "      <td>3.752037</td>\n",
       "      <td>5.810417</td>\n",
       "    </tr>\n",
       "    <tr>\n",
       "      <th>std</th>\n",
       "      <td>2.852153</td>\n",
       "      <td>7.113954</td>\n",
       "      <td>1.113565</td>\n",
       "      <td>8.155627</td>\n",
       "      <td>10.062261</td>\n",
       "    </tr>\n",
       "    <tr>\n",
       "      <th>min</th>\n",
       "      <td>1.000000</td>\n",
       "      <td>12.000000</td>\n",
       "      <td>1.000000</td>\n",
       "      <td>0.000000</td>\n",
       "      <td>0.000000</td>\n",
       "    </tr>\n",
       "    <tr>\n",
       "      <th>25%</th>\n",
       "      <td>7.000000</td>\n",
       "      <td>25.000000</td>\n",
       "      <td>2.000000</td>\n",
       "      <td>0.000000</td>\n",
       "      <td>0.000000</td>\n",
       "    </tr>\n",
       "    <tr>\n",
       "      <th>50%</th>\n",
       "      <td>9.000000</td>\n",
       "      <td>29.000000</td>\n",
       "      <td>3.000000</td>\n",
       "      <td>0.000000</td>\n",
       "      <td>0.000000</td>\n",
       "    </tr>\n",
       "    <tr>\n",
       "      <th>75%</th>\n",
       "      <td>11.000000</td>\n",
       "      <td>33.000000</td>\n",
       "      <td>4.000000</td>\n",
       "      <td>2.000000</td>\n",
       "      <td>6.000000</td>\n",
       "    </tr>\n",
       "    <tr>\n",
       "      <th>max</th>\n",
       "      <td>13.000000</td>\n",
       "      <td>98.000000</td>\n",
       "      <td>5.000000</td>\n",
       "      <td>30.000000</td>\n",
       "      <td>30.000000</td>\n",
       "    </tr>\n",
       "  </tbody>\n",
       "</table>\n",
       "</div>"
      ],
      "text/plain": [
       "                Age           BMI       GenHlth      MentHlth      PhysHlth\n",
       "count  70692.000000  70692.000000  70692.000000  70692.000000  70692.000000\n",
       "mean       8.584055     29.856985      2.837082      3.752037      5.810417\n",
       "std        2.852153      7.113954      1.113565      8.155627     10.062261\n",
       "min        1.000000     12.000000      1.000000      0.000000      0.000000\n",
       "25%        7.000000     25.000000      2.000000      0.000000      0.000000\n",
       "50%        9.000000     29.000000      3.000000      0.000000      0.000000\n",
       "75%       11.000000     33.000000      4.000000      2.000000      6.000000\n",
       "max       13.000000     98.000000      5.000000     30.000000     30.000000"
      ]
     },
     "execution_count": 9,
     "metadata": {},
     "output_type": "execute_result"
    }
   ],
   "source": [
    "data[cont_var].describe()"
   ]
  },
  {
   "cell_type": "code",
   "execution_count": 41,
   "metadata": {},
   "outputs": [
    {
     "data": {
      "text/plain": [
       "Index(['Age', 'Sex', 'HighChol', 'CholCheck', 'BMI', 'Smoker',\n",
       "       'HeartDiseaseorAttack', 'PhysActivity', 'Fruits', 'Veggies',\n",
       "       'HvyAlcoholConsump', 'GenHlth', 'MentHlth', 'PhysHlth', 'DiffWalk',\n",
       "       'Diabetes', 'Hypertension', 'Stroke'],\n",
       "      dtype='object')"
      ]
     },
     "execution_count": 41,
     "metadata": {},
     "output_type": "execute_result"
    }
   ],
   "source": [
    "data.columns"
   ]
  },
  {
   "cell_type": "code",
   "execution_count": 42,
   "metadata": {},
   "outputs": [],
   "source": [
    "im_var = ['CholCheck', 'HeartDiseaseorAttack', 'PhysActivity', 'Veggies', 'HvyAlcoholConsump', 'DiffWalk']"
   ]
  },
  {
   "cell_type": "code",
   "execution_count": 43,
   "metadata": {},
   "outputs": [
    {
     "data": {
      "text/html": [
       "<div>\n",
       "<style scoped>\n",
       "    .dataframe tbody tr th:only-of-type {\n",
       "        vertical-align: middle;\n",
       "    }\n",
       "\n",
       "    .dataframe tbody tr th {\n",
       "        vertical-align: top;\n",
       "    }\n",
       "\n",
       "    .dataframe thead th {\n",
       "        text-align: right;\n",
       "    }\n",
       "</style>\n",
       "<table border=\"1\" class=\"dataframe\">\n",
       "  <thead>\n",
       "    <tr style=\"text-align: right;\">\n",
       "      <th></th>\n",
       "      <th>CholCheck</th>\n",
       "      <th>HeartDiseaseorAttack</th>\n",
       "      <th>PhysActivity</th>\n",
       "      <th>Veggies</th>\n",
       "      <th>HvyAlcoholConsump</th>\n",
       "      <th>DiffWalk</th>\n",
       "    </tr>\n",
       "  </thead>\n",
       "  <tbody>\n",
       "    <tr>\n",
       "      <th>count</th>\n",
       "      <td>70692.000000</td>\n",
       "      <td>70692.000000</td>\n",
       "      <td>70692.000000</td>\n",
       "      <td>70692.000000</td>\n",
       "      <td>70692.000000</td>\n",
       "      <td>70692.000000</td>\n",
       "    </tr>\n",
       "    <tr>\n",
       "      <th>mean</th>\n",
       "      <td>0.975259</td>\n",
       "      <td>0.147810</td>\n",
       "      <td>0.703036</td>\n",
       "      <td>0.788774</td>\n",
       "      <td>0.042721</td>\n",
       "      <td>0.252730</td>\n",
       "    </tr>\n",
       "    <tr>\n",
       "      <th>std</th>\n",
       "      <td>0.155336</td>\n",
       "      <td>0.354914</td>\n",
       "      <td>0.456924</td>\n",
       "      <td>0.408181</td>\n",
       "      <td>0.202228</td>\n",
       "      <td>0.434581</td>\n",
       "    </tr>\n",
       "    <tr>\n",
       "      <th>min</th>\n",
       "      <td>0.000000</td>\n",
       "      <td>0.000000</td>\n",
       "      <td>0.000000</td>\n",
       "      <td>0.000000</td>\n",
       "      <td>0.000000</td>\n",
       "      <td>0.000000</td>\n",
       "    </tr>\n",
       "    <tr>\n",
       "      <th>25%</th>\n",
       "      <td>1.000000</td>\n",
       "      <td>0.000000</td>\n",
       "      <td>0.000000</td>\n",
       "      <td>1.000000</td>\n",
       "      <td>0.000000</td>\n",
       "      <td>0.000000</td>\n",
       "    </tr>\n",
       "    <tr>\n",
       "      <th>50%</th>\n",
       "      <td>1.000000</td>\n",
       "      <td>0.000000</td>\n",
       "      <td>1.000000</td>\n",
       "      <td>1.000000</td>\n",
       "      <td>0.000000</td>\n",
       "      <td>0.000000</td>\n",
       "    </tr>\n",
       "    <tr>\n",
       "      <th>75%</th>\n",
       "      <td>1.000000</td>\n",
       "      <td>0.000000</td>\n",
       "      <td>1.000000</td>\n",
       "      <td>1.000000</td>\n",
       "      <td>0.000000</td>\n",
       "      <td>1.000000</td>\n",
       "    </tr>\n",
       "    <tr>\n",
       "      <th>max</th>\n",
       "      <td>1.000000</td>\n",
       "      <td>1.000000</td>\n",
       "      <td>1.000000</td>\n",
       "      <td>1.000000</td>\n",
       "      <td>1.000000</td>\n",
       "      <td>1.000000</td>\n",
       "    </tr>\n",
       "  </tbody>\n",
       "</table>\n",
       "</div>"
      ],
      "text/plain": [
       "          CholCheck  HeartDiseaseorAttack  PhysActivity       Veggies  \\\n",
       "count  70692.000000          70692.000000  70692.000000  70692.000000   \n",
       "mean       0.975259              0.147810      0.703036      0.788774   \n",
       "std        0.155336              0.354914      0.456924      0.408181   \n",
       "min        0.000000              0.000000      0.000000      0.000000   \n",
       "25%        1.000000              0.000000      0.000000      1.000000   \n",
       "50%        1.000000              0.000000      1.000000      1.000000   \n",
       "75%        1.000000              0.000000      1.000000      1.000000   \n",
       "max        1.000000              1.000000      1.000000      1.000000   \n",
       "\n",
       "       HvyAlcoholConsump      DiffWalk  \n",
       "count       70692.000000  70692.000000  \n",
       "mean            0.042721      0.252730  \n",
       "std             0.202228      0.434581  \n",
       "min             0.000000      0.000000  \n",
       "25%             0.000000      0.000000  \n",
       "50%             0.000000      0.000000  \n",
       "75%             0.000000      1.000000  \n",
       "max             1.000000      1.000000  "
      ]
     },
     "execution_count": 43,
     "metadata": {},
     "output_type": "execute_result"
    }
   ],
   "source": [
    "data[im_var].describe()"
   ]
  },
  {
   "cell_type": "code",
   "execution_count": 44,
   "metadata": {},
   "outputs": [
    {
     "data": {
      "text/plain": [
       "count    70692.000000\n",
       "mean         0.500000\n",
       "std          0.500004\n",
       "min          0.000000\n",
       "25%          0.000000\n",
       "50%          0.500000\n",
       "75%          1.000000\n",
       "max          1.000000\n",
       "Name: Diabetes, dtype: float64"
      ]
     },
     "execution_count": 44,
     "metadata": {},
     "output_type": "execute_result"
    }
   ],
   "source": [
    "data['Diabetes'].describe()"
   ]
  },
  {
   "cell_type": "code",
   "execution_count": 16,
   "metadata": {},
   "outputs": [
    {
     "data": {
      "image/png": "[encoded data removed]",
      "text/plain": [
       "<Figure size 216x216 with 1 Axes>"
      ]
     },
     "metadata": {
      "needs_background": "light"
     },
     "output_type": "display_data"
    },
    {
     "data": {
      "image/png": "[encoded data removed]",
      "text/plain": [
       "<Figure size 216x216 with 1 Axes>"
      ]
     },
     "metadata": {
      "needs_background": "light"
     },
     "output_type": "display_data"
    },
    {
     "data": {
      "image/png": "[encoded data removed]",
      "text/plain": [
       "<Figure size 216x216 with 1 Axes>"
      ]
     },
     "metadata": {
      "needs_background": "light"
     },
     "output_type": "display_data"
    },
    {
     "data": {
      "image/png": "[encoded data removed]",
      "text/plain": [
       "<Figure size 216x216 with 1 Axes>"
      ]
     },
     "metadata": {
      "needs_background": "light"
     },
     "output_type": "display_data"
    },
    {
     "data": {
      "image/png": "[encoded data removed]",
      "text/plain": [
       "<Figure size 216x216 with 1 Axes>"
      ]
     },
     "metadata": {
      "needs_background": "light"
     },
     "output_type": "display_data"
    },
    {
     "data": {
      "image/png": "[encoded data removed]",
      "text/plain": [
       "<Figure size 216x216 with 1 Axes>"
      ]
     },
     "metadata": {
      "needs_background": "light"
     },
     "output_type": "display_data"
    },
    {
     "data": {
      "image/png": "[encoded data removed]",
      "text/plain": [
       "<Figure size 216x216 with 1 Axes>"
      ]
     },
     "metadata": {
      "needs_background": "light"
     },
     "output_type": "display_data"
    },
    {
     "data": {
      "image/png": "[encoded data removed]",
      "text/plain": [
       "<Figure size 216x216 with 1 Axes>"
      ]
     },
     "metadata": {
      "needs_background": "light"
     },
     "output_type": "display_data"
    },
    {
     "data": {
      "image/png": "[encoded data removed]",
      "text/plain": [
       "<Figure size 216x216 with 1 Axes>"
      ]
     },
     "metadata": {
      "needs_background": "light"
     },
     "output_type": "display_data"
    },
    {
     "data": {
      "image/png": "[encoded data removed]",
      "text/plain": [
       "<Figure size 216x216 with 1 Axes>"
      ]
     },
     "metadata": {
      "needs_background": "light"
     },
     "output_type": "display_data"
    },
    {
     "data": {
      "image/png": "[encoded data removed]",
      "text/plain": [
       "<Figure size 216x216 with 1 Axes>"
      ]
     },
     "metadata": {
      "needs_background": "light"
     },
     "output_type": "display_data"
    },
    {
     "data": {
      "image/png": "[encoded data removed]",
      "text/plain": [
       "<Figure size 216x216 with 1 Axes>"
      ]
     },
     "metadata": {
      "needs_background": "light"
     },
     "output_type": "display_data"
    },
    {
     "data": {
      "image/png": "[encoded data removed]",
      "text/plain": [
       "<Figure size 216x216 with 1 Axes>"
      ]
     },
     "metadata": {
      "needs_background": "light"
     },
     "output_type": "display_data"
    }
   ],
   "source": [
    "for i in bin_var:\n",
    "    plt.xlabel(i)\n",
    "    data[i].plot(kind='hist', bins=2, figsize=(3,3), facecolor='steelblue',edgecolor='black')\n",
    "    plt.show()"
   ]
  },
  {
   "cell_type": "code",
   "execution_count": 17,
   "metadata": {},
   "outputs": [
    {
     "data": {
      "image/png": "[encoded data removed]",
      "text/plain": [
       "<Figure size 432x216 with 1 Axes>"
      ]
     },
     "metadata": {
      "needs_background": "light"
     },
     "output_type": "display_data"
    },
    {
     "data": {
      "image/png": "[encoded data removed]",
      "text/plain": [
       "<Figure size 432x216 with 1 Axes>"
      ]
     },
     "metadata": {
      "needs_background": "light"
     },
     "output_type": "display_data"
    },
    {
     "data": {
      "image/png": "[encoded data removed]",
      "text/plain": [
       "<Figure size 432x216 with 1 Axes>"
      ]
     },
     "metadata": {
      "needs_background": "light"
     },
     "output_type": "display_data"
    },
    {
     "data": {
      "image/png": "[encoded data removed]",
      "text/plain": [
       "<Figure size 432x216 with 1 Axes>"
      ]
     },
     "metadata": {
      "needs_background": "light"
     },
     "output_type": "display_data"
    },
    {
     "data": {
      "image/png": "[encoded data removed]",
      "text/plain": [
       "<Figure size 432x216 with 1 Axes>"
      ]
     },
     "metadata": {
      "needs_background": "light"
     },
     "output_type": "display_data"
    }
   ],
   "source": [
    "for i in cont_var:\n",
    "    plt.xlabel(i)\n",
    "    data[i].plot(kind='hist', bins=20, figsize=(6,3), facecolor='steelblue',edgecolor='black')\n",
    "    plt.show()"
   ]
  },
  {
   "cell_type": "code",
   "execution_count": 27,
   "metadata": {},
   "outputs": [
    {
     "data": {
      "image/png": "[encoded data removed]",
      "text/plain": [
       "<Figure size 216x216 with 1 Axes>"
      ]
     },
     "metadata": {
      "needs_background": "light"
     },
     "output_type": "display_data"
    },
    {
     "data": {
      "image/png": "[encoded data removed]",
      "text/plain": [
       "<Figure size 216x216 with 1 Axes>"
      ]
     },
     "metadata": {
      "needs_background": "light"
     },
     "output_type": "display_data"
    },
    {
     "data": {
      "image/png": "[encoded data removed]",
      "text/plain": [
       "<Figure size 216x216 with 1 Axes>"
      ]
     },
     "metadata": {
      "needs_background": "light"
     },
     "output_type": "display_data"
    },
    {
     "data": {
      "image/png": "[encoded data removed]",
      "text/plain": [
       "<Figure size 216x216 with 1 Axes>"
      ]
     },
     "metadata": {
      "needs_background": "light"
     },
     "output_type": "display_data"
    },
    {
     "data": {
      "image/png": "[encoded data removed]",
      "text/plain": [
       "<Figure size 216x216 with 1 Axes>"
      ]
     },
     "metadata": {
      "needs_background": "light"
     },
     "output_type": "display_data"
    }
   ],
   "source": [
    "## boxplot\n",
    "for i in cont_var:\n",
    "    fig = plt.figure(figsize =(3,3))\n",
    "    plt.xlabel(i)\n",
    "    plt.boxplot(data[i])\n",
    "    plt.show()\n"
   ]
  },
  {
   "cell_type": "code",
   "execution_count": 36,
   "metadata": {},
   "outputs": [
    {
     "data": {
      "image/png": "[encoded data removed]",
      "text/plain": [
       "<Figure size 216x216 with 1 Axes>"
      ]
     },
     "metadata": {
      "needs_background": "light"
     },
     "output_type": "display_data"
    },
    {
     "data": {
      "image/png": "[encoded data removed]",
      "text/plain": [
       "<Figure size 216x216 with 1 Axes>"
      ]
     },
     "metadata": {
      "needs_background": "light"
     },
     "output_type": "display_data"
    },
    {
     "data": {
      "image/png": "[encoded data removed]",
      "text/plain": [
       "<Figure size 216x216 with 1 Axes>"
      ]
     },
     "metadata": {
      "needs_background": "light"
     },
     "output_type": "display_data"
    },
    {
     "data": {
      "image/png": "[encoded data removed]",
      "text/plain": [
       "<Figure size 216x216 with 1 Axes>"
      ]
     },
     "metadata": {
      "needs_background": "light"
     },
     "output_type": "display_data"
    },
    {
     "data": {
      "image/png": "[encoded data removed]",
      "text/plain": [
       "<Figure size 216x216 with 1 Axes>"
      ]
     },
     "metadata": {
      "needs_background": "light"
     },
     "output_type": "display_data"
    },
    {
     "data": {
      "image/png": "[encoded data removed]",
      "text/plain": [
       "<Figure size 216x216 with 1 Axes>"
      ]
     },
     "metadata": {
      "needs_background": "light"
     },
     "output_type": "display_data"
    },
    {
     "data": {
      "image/png": "[encoded data removed]",
      "text/plain": [
       "<Figure size 216x216 with 1 Axes>"
      ]
     },
     "metadata": {
      "needs_background": "light"
     },
     "output_type": "display_data"
    },
    {
     "data": {
      "image/png": "[encoded data removed]",
      "text/plain": [
       "<Figure size 216x216 with 1 Axes>"
      ]
     },
     "metadata": {
      "needs_background": "light"
     },
     "output_type": "display_data"
    },
    {
     "data": {
      "image/png": "[encoded data removed]",
      "text/plain": [
       "<Figure size 216x216 with 1 Axes>"
      ]
     },
     "metadata": {
      "needs_background": "light"
     },
     "output_type": "display_data"
    },
    {
     "data": {
      "image/png": "[encoded data removed]",
      "text/plain": [
       "<Figure size 216x216 with 1 Axes>"
      ]
     },
     "metadata": {
      "needs_background": "light"
     },
     "output_type": "display_data"
    },
    {
     "data": {
      "image/png": "[encoded data removed]",
      "text/plain": [
       "<Figure size 216x216 with 1 Axes>"
      ]
     },
     "metadata": {
      "needs_background": "light"
     },
     "output_type": "display_data"
    },
    {
     "data": {
      "image/png": "[encoded data removed]",
      "text/plain": [
       "<Figure size 216x216 with 1 Axes>"
      ]
     },
     "metadata": {
      "needs_background": "light"
     },
     "output_type": "display_data"
    },
    {
     "data": {
      "image/png": "[encoded data removed]",
      "text/plain": [
       "<Figure size 216x216 with 1 Axes>"
      ]
     },
     "metadata": {
      "needs_background": "light"
     },
     "output_type": "display_data"
    }
   ],
   "source": [
    "for i in bin_var:\n",
    "    fig = plt.figure(figsize =(3,3))\n",
    "    plt.xlabel(i)\n",
    "    plt.boxplot(data[i])\n",
    "    plt.show()"
   ]
  },
  {
   "cell_type": "code",
   "execution_count": 24,
   "metadata": {},
   "outputs": [
    {
     "data": {
      "text/html": [
       "<div>\n",
       "<style scoped>\n",
       "    .dataframe tbody tr th:only-of-type {\n",
       "        vertical-align: middle;\n",
       "    }\n",
       "\n",
       "    .dataframe tbody tr th {\n",
       "        vertical-align: top;\n",
       "    }\n",
       "\n",
       "    .dataframe thead th {\n",
       "        text-align: right;\n",
       "    }\n",
       "</style>\n",
       "<table border=\"1\" class=\"dataframe\">\n",
       "  <thead>\n",
       "    <tr style=\"text-align: right;\">\n",
       "      <th></th>\n",
       "      <th>Age</th>\n",
       "      <th>Sex</th>\n",
       "      <th>HighChol</th>\n",
       "      <th>CholCheck</th>\n",
       "      <th>BMI</th>\n",
       "      <th>Smoker</th>\n",
       "      <th>HeartDiseaseorAttack</th>\n",
       "      <th>PhysActivity</th>\n",
       "      <th>Fruits</th>\n",
       "      <th>Veggies</th>\n",
       "      <th>HvyAlcoholConsump</th>\n",
       "      <th>GenHlth</th>\n",
       "      <th>MentHlth</th>\n",
       "      <th>PhysHlth</th>\n",
       "      <th>DiffWalk</th>\n",
       "      <th>Diabetes</th>\n",
       "      <th>Hypertension</th>\n",
       "      <th>Stroke</th>\n",
       "    </tr>\n",
       "  </thead>\n",
       "  <tbody>\n",
       "    <tr>\n",
       "      <th>199</th>\n",
       "      <td>8.0</td>\n",
       "      <td>0.0</td>\n",
       "      <td>0.0</td>\n",
       "      <td>1.0</td>\n",
       "      <td>69.0</td>\n",
       "      <td>0.0</td>\n",
       "      <td>0.0</td>\n",
       "      <td>0.0</td>\n",
       "      <td>0.0</td>\n",
       "      <td>1.0</td>\n",
       "      <td>0.0</td>\n",
       "      <td>5.0</td>\n",
       "      <td>10.0</td>\n",
       "      <td>30.0</td>\n",
       "      <td>1.0</td>\n",
       "      <td>0.0</td>\n",
       "      <td>0.0</td>\n",
       "      <td>0.0</td>\n",
       "    </tr>\n",
       "    <tr>\n",
       "      <th>553</th>\n",
       "      <td>2.0</td>\n",
       "      <td>0.0</td>\n",
       "      <td>0.0</td>\n",
       "      <td>1.0</td>\n",
       "      <td>92.0</td>\n",
       "      <td>1.0</td>\n",
       "      <td>0.0</td>\n",
       "      <td>1.0</td>\n",
       "      <td>1.0</td>\n",
       "      <td>1.0</td>\n",
       "      <td>0.0</td>\n",
       "      <td>2.0</td>\n",
       "      <td>30.0</td>\n",
       "      <td>0.0</td>\n",
       "      <td>0.0</td>\n",
       "      <td>0.0</td>\n",
       "      <td>0.0</td>\n",
       "      <td>0.0</td>\n",
       "    </tr>\n",
       "    <tr>\n",
       "      <th>612</th>\n",
       "      <td>10.0</td>\n",
       "      <td>0.0</td>\n",
       "      <td>1.0</td>\n",
       "      <td>1.0</td>\n",
       "      <td>98.0</td>\n",
       "      <td>1.0</td>\n",
       "      <td>0.0</td>\n",
       "      <td>1.0</td>\n",
       "      <td>1.0</td>\n",
       "      <td>1.0</td>\n",
       "      <td>0.0</td>\n",
       "      <td>2.0</td>\n",
       "      <td>0.0</td>\n",
       "      <td>20.0</td>\n",
       "      <td>0.0</td>\n",
       "      <td>0.0</td>\n",
       "      <td>0.0</td>\n",
       "      <td>0.0</td>\n",
       "    </tr>\n",
       "    <tr>\n",
       "      <th>783</th>\n",
       "      <td>11.0</td>\n",
       "      <td>1.0</td>\n",
       "      <td>0.0</td>\n",
       "      <td>1.0</td>\n",
       "      <td>79.0</td>\n",
       "      <td>1.0</td>\n",
       "      <td>0.0</td>\n",
       "      <td>0.0</td>\n",
       "      <td>0.0</td>\n",
       "      <td>1.0</td>\n",
       "      <td>0.0</td>\n",
       "      <td>4.0</td>\n",
       "      <td>0.0</td>\n",
       "      <td>0.0</td>\n",
       "      <td>0.0</td>\n",
       "      <td>0.0</td>\n",
       "      <td>1.0</td>\n",
       "      <td>0.0</td>\n",
       "    </tr>\n",
       "    <tr>\n",
       "      <th>1070</th>\n",
       "      <td>11.0</td>\n",
       "      <td>1.0</td>\n",
       "      <td>1.0</td>\n",
       "      <td>1.0</td>\n",
       "      <td>79.0</td>\n",
       "      <td>1.0</td>\n",
       "      <td>0.0</td>\n",
       "      <td>1.0</td>\n",
       "      <td>1.0</td>\n",
       "      <td>1.0</td>\n",
       "      <td>1.0</td>\n",
       "      <td>4.0</td>\n",
       "      <td>4.0</td>\n",
       "      <td>3.0</td>\n",
       "      <td>0.0</td>\n",
       "      <td>0.0</td>\n",
       "      <td>1.0</td>\n",
       "      <td>1.0</td>\n",
       "    </tr>\n",
       "    <tr>\n",
       "      <th>...</th>\n",
       "      <td>...</td>\n",
       "      <td>...</td>\n",
       "      <td>...</td>\n",
       "      <td>...</td>\n",
       "      <td>...</td>\n",
       "      <td>...</td>\n",
       "      <td>...</td>\n",
       "      <td>...</td>\n",
       "      <td>...</td>\n",
       "      <td>...</td>\n",
       "      <td>...</td>\n",
       "      <td>...</td>\n",
       "      <td>...</td>\n",
       "      <td>...</td>\n",
       "      <td>...</td>\n",
       "      <td>...</td>\n",
       "      <td>...</td>\n",
       "      <td>...</td>\n",
       "    </tr>\n",
       "    <tr>\n",
       "      <th>68214</th>\n",
       "      <td>10.0</td>\n",
       "      <td>0.0</td>\n",
       "      <td>1.0</td>\n",
       "      <td>1.0</td>\n",
       "      <td>67.0</td>\n",
       "      <td>0.0</td>\n",
       "      <td>0.0</td>\n",
       "      <td>0.0</td>\n",
       "      <td>1.0</td>\n",
       "      <td>0.0</td>\n",
       "      <td>0.0</td>\n",
       "      <td>3.0</td>\n",
       "      <td>5.0</td>\n",
       "      <td>2.0</td>\n",
       "      <td>1.0</td>\n",
       "      <td>1.0</td>\n",
       "      <td>1.0</td>\n",
       "      <td>0.0</td>\n",
       "    </tr>\n",
       "    <tr>\n",
       "      <th>68371</th>\n",
       "      <td>6.0</td>\n",
       "      <td>1.0</td>\n",
       "      <td>1.0</td>\n",
       "      <td>1.0</td>\n",
       "      <td>68.0</td>\n",
       "      <td>1.0</td>\n",
       "      <td>1.0</td>\n",
       "      <td>0.0</td>\n",
       "      <td>0.0</td>\n",
       "      <td>1.0</td>\n",
       "      <td>0.0</td>\n",
       "      <td>5.0</td>\n",
       "      <td>15.0</td>\n",
       "      <td>30.0</td>\n",
       "      <td>1.0</td>\n",
       "      <td>1.0</td>\n",
       "      <td>1.0</td>\n",
       "      <td>0.0</td>\n",
       "    </tr>\n",
       "    <tr>\n",
       "      <th>68544</th>\n",
       "      <td>9.0</td>\n",
       "      <td>0.0</td>\n",
       "      <td>0.0</td>\n",
       "      <td>1.0</td>\n",
       "      <td>61.0</td>\n",
       "      <td>1.0</td>\n",
       "      <td>0.0</td>\n",
       "      <td>0.0</td>\n",
       "      <td>0.0</td>\n",
       "      <td>1.0</td>\n",
       "      <td>0.0</td>\n",
       "      <td>4.0</td>\n",
       "      <td>15.0</td>\n",
       "      <td>30.0</td>\n",
       "      <td>1.0</td>\n",
       "      <td>1.0</td>\n",
       "      <td>1.0</td>\n",
       "      <td>0.0</td>\n",
       "    </tr>\n",
       "    <tr>\n",
       "      <th>69233</th>\n",
       "      <td>7.0</td>\n",
       "      <td>0.0</td>\n",
       "      <td>1.0</td>\n",
       "      <td>1.0</td>\n",
       "      <td>65.0</td>\n",
       "      <td>0.0</td>\n",
       "      <td>0.0</td>\n",
       "      <td>1.0</td>\n",
       "      <td>1.0</td>\n",
       "      <td>1.0</td>\n",
       "      <td>0.0</td>\n",
       "      <td>4.0</td>\n",
       "      <td>0.0</td>\n",
       "      <td>30.0</td>\n",
       "      <td>1.0</td>\n",
       "      <td>1.0</td>\n",
       "      <td>1.0</td>\n",
       "      <td>0.0</td>\n",
       "    </tr>\n",
       "    <tr>\n",
       "      <th>70450</th>\n",
       "      <td>7.0</td>\n",
       "      <td>0.0</td>\n",
       "      <td>0.0</td>\n",
       "      <td>1.0</td>\n",
       "      <td>61.0</td>\n",
       "      <td>0.0</td>\n",
       "      <td>1.0</td>\n",
       "      <td>0.0</td>\n",
       "      <td>1.0</td>\n",
       "      <td>1.0</td>\n",
       "      <td>0.0</td>\n",
       "      <td>4.0</td>\n",
       "      <td>0.0</td>\n",
       "      <td>8.0</td>\n",
       "      <td>1.0</td>\n",
       "      <td>1.0</td>\n",
       "      <td>1.0</td>\n",
       "      <td>0.0</td>\n",
       "    </tr>\n",
       "  </tbody>\n",
       "</table>\n",
       "<p>260 rows × 18 columns</p>\n",
       "</div>"
      ],
      "text/plain": [
       "        Age  Sex  HighChol  CholCheck   BMI  Smoker  HeartDiseaseorAttack  \\\n",
       "199     8.0  0.0       0.0        1.0  69.0     0.0                   0.0   \n",
       "553     2.0  0.0       0.0        1.0  92.0     1.0                   0.0   \n",
       "612    10.0  0.0       1.0        1.0  98.0     1.0                   0.0   \n",
       "783    11.0  1.0       0.0        1.0  79.0     1.0                   0.0   \n",
       "1070   11.0  1.0       1.0        1.0  79.0     1.0                   0.0   \n",
       "...     ...  ...       ...        ...   ...     ...                   ...   \n",
       "68214  10.0  0.0       1.0        1.0  67.0     0.0                   0.0   \n",
       "68371   6.0  1.0       1.0        1.0  68.0     1.0                   1.0   \n",
       "68544   9.0  0.0       0.0        1.0  61.0     1.0                   0.0   \n",
       "69233   7.0  0.0       1.0        1.0  65.0     0.0                   0.0   \n",
       "70450   7.0  0.0       0.0        1.0  61.0     0.0                   1.0   \n",
       "\n",
       "       PhysActivity  Fruits  Veggies  HvyAlcoholConsump  GenHlth  MentHlth  \\\n",
       "199             0.0     0.0      1.0                0.0      5.0      10.0   \n",
       "553             1.0     1.0      1.0                0.0      2.0      30.0   \n",
       "612             1.0     1.0      1.0                0.0      2.0       0.0   \n",
       "783             0.0     0.0      1.0                0.0      4.0       0.0   \n",
       "1070            1.0     1.0      1.0                1.0      4.0       4.0   \n",
       "...             ...     ...      ...                ...      ...       ...   \n",
       "68214           0.0     1.0      0.0                0.0      3.0       5.0   \n",
       "68371           0.0     0.0      1.0                0.0      5.0      15.0   \n",
       "68544           0.0     0.0      1.0                0.0      4.0      15.0   \n",
       "69233           1.0     1.0      1.0                0.0      4.0       0.0   \n",
       "70450           0.0     1.0      1.0                0.0      4.0       0.0   \n",
       "\n",
       "       PhysHlth  DiffWalk  Diabetes  Hypertension  Stroke  \n",
       "199        30.0       1.0       0.0           0.0     0.0  \n",
       "553         0.0       0.0       0.0           0.0     0.0  \n",
       "612        20.0       0.0       0.0           0.0     0.0  \n",
       "783         0.0       0.0       0.0           1.0     0.0  \n",
       "1070        3.0       0.0       0.0           1.0     1.0  \n",
       "...         ...       ...       ...           ...     ...  \n",
       "68214       2.0       1.0       1.0           1.0     0.0  \n",
       "68371      30.0       1.0       1.0           1.0     0.0  \n",
       "68544      30.0       1.0       1.0           1.0     0.0  \n",
       "69233      30.0       1.0       1.0           1.0     0.0  \n",
       "70450       8.0       1.0       1.0           1.0     0.0  \n",
       "\n",
       "[260 rows x 18 columns]"
      ]
     },
     "execution_count": 24,
     "metadata": {},
     "output_type": "execute_result"
    }
   ],
   "source": [
    "data.loc[data['BMI']>60]"
   ]
  },
  {
   "attachments": {},
   "cell_type": "markdown",
   "metadata": {},
   "source": [
    "#### Train Test Split\n"
   ]
  },
  {
   "cell_type": "code",
   "execution_count": 29,
   "metadata": {},
   "outputs": [],
   "source": [
    "y_cols = ['Diabetes']\n",
    "X = data.drop(y_cols,axis=1)\n",
    "y = data[y_cols]\n",
    "X_train,X_test,y_train,y_test = train_test_split(X,y,test_size=0.3,random_state=10,stratify=y)"
   ]
  },
  {
   "cell_type": "code",
   "execution_count": 30,
   "metadata": {},
   "outputs": [],
   "source": [
    "scaler = StandardScaler()\n",
    "X_train_scaled = scaler.fit_transform(X_train)\n",
    "X_test_scaled = scaler.transform(X_test)"
   ]
  },
  {
   "cell_type": "code",
   "execution_count": 31,
   "metadata": {},
   "outputs": [
    {
     "data": {
      "text/plain": [
       "(49484, 17)"
      ]
     },
     "execution_count": 31,
     "metadata": {},
     "output_type": "execute_result"
    }
   ],
   "source": [
    "X_train.shape"
   ]
  },
  {
   "cell_type": "code",
   "execution_count": 32,
   "metadata": {},
   "outputs": [
    {
     "data": {
      "text/plain": [
       "(49484, 17)"
      ]
     },
     "execution_count": 32,
     "metadata": {},
     "output_type": "execute_result"
    }
   ],
   "source": [
    "X_train_scaled.shape"
   ]
  },
  {
   "attachments": {},
   "cell_type": "markdown",
   "metadata": {},
   "source": [
    "#### Outlier Detection"
   ]
  },
  {
   "cell_type": "code",
   "execution_count": 33,
   "metadata": {},
   "outputs": [],
   "source": [
    "from sklearn.neighbors import LocalOutlierFactor\n",
    "lof = LocalOutlierFactor()\n",
    "yhat = lof.fit_predict(X_train_scaled)"
   ]
  },
  {
   "attachments": {},
   "cell_type": "markdown",
   "metadata": {},
   "source": [
    "### logistic reg\n"
   ]
  },
  {
   "cell_type": "code",
   "execution_count": 34,
   "metadata": {},
   "outputs": [],
   "source": [
    "logreg = LogisticRegression(random_state=16)\n",
    "logreg.fit(X_train_scaled, y_train.values.ravel())\n",
    "y_pred = logreg.predict(X_test_scaled)"
   ]
  },
  {
   "cell_type": "code",
   "execution_count": 35,
   "metadata": {},
   "outputs": [
    {
     "data": {
      "text/plain": [
       "array([[7628, 2976],\n",
       "       [2512, 8092]], dtype=int64)"
      ]
     },
     "execution_count": 35,
     "metadata": {},
     "output_type": "execute_result"
    }
   ],
   "source": [
    "cnf_matrix = metrics.confusion_matrix(y_test, y_pred)\n",
    "cnf_matrix"
   ]
  },
  {
   "cell_type": "code",
   "execution_count": 46,
   "metadata": {},
   "outputs": [
    {
     "data": {
      "text/plain": [
       "array([[7628, 2976],\n",
       "       [2512, 8092]], dtype=int64)"
      ]
     },
     "execution_count": 46,
     "metadata": {},
     "output_type": "execute_result"
    }
   ],
   "source": [
    "cnf_matrix"
   ]
  },
  {
   "cell_type": "code",
   "execution_count": 48,
   "metadata": {},
   "outputs": [
    {
     "data": {
      "text/plain": [
       "21208"
      ]
     },
     "execution_count": 48,
     "metadata": {},
     "output_type": "execute_result"
    }
   ],
   "source": [
    "sum(cnf_matrix).sum()"
   ]
  },
  {
   "cell_type": "code",
   "execution_count": 49,
   "metadata": {},
   "outputs": [],
   "source": [
    "cnf_matrix_1 = cnf_matrix/(sum(cnf_matrix).sum())"
   ]
  },
  {
   "cell_type": "code",
   "execution_count": 52,
   "metadata": {},
   "outputs": [
    {
     "data": {
      "text/plain": [
       "Text(0.5, 257.44, 'Predicted label')"
      ]
     },
     "execution_count": 52,
     "metadata": {},
     "output_type": "execute_result"
    },
    {
     "data": {
      "image/png": "[encoded data removed]",
      "text/plain": [
       "<Figure size 432x288 with 2 Axes>"
      ]
     },
     "metadata": {
      "needs_background": "light"
     },
     "output_type": "display_data"
    }
   ],
   "source": [
    "class_names=[1,0] # name  of classes\n",
    "fig, ax = plt.subplots()\n",
    "tick_marks = np.arange(len(class_names))\n",
    "plt.xticks(tick_marks, class_names)\n",
    "plt.yticks(tick_marks, class_names)\n",
    "# create heatmap\n",
    "sns.heatmap(pd.DataFrame(cnf_matrix), annot=True, cmap=\"YlGnBu\" ,fmt='g')\n",
    "ax.xaxis.set_label_position(\"top\")\n",
    "plt.tight_layout()\n",
    "plt.title('Confusion matrix', y=1.1)\n",
    "plt.ylabel('Actual label')\n",
    "plt.xlabel('Predicted label')\n",
    "\n",
    "# Text(0.5,257.44,'Predicted label');"
   ]
  },
  {
   "cell_type": "code",
   "execution_count": 55,
   "metadata": {},
   "outputs": [
    {
     "data": {
      "text/plain": [
       "0.7631082610335722"
      ]
     },
     "execution_count": 55,
     "metadata": {},
     "output_type": "execute_result"
    }
   ],
   "source": [
    "tpr = 8092/(8092+2512)\n",
    "tpr"
   ]
  },
  {
   "cell_type": "code",
   "execution_count": 45,
   "metadata": {},
   "outputs": [],
   "source": [
    "# np.array(corr)"
   ]
  },
  {
   "cell_type": "code",
   "execution_count": 52,
   "metadata": {},
   "outputs": [
    {
     "name": "stdout",
     "output_type": "stream",
     "text": [
      "              precision    recall  f1-score   support\n",
      "\n",
      " no diabetes       0.75      0.72      0.74     10604\n",
      "    diabetes       0.73      0.76      0.75     10604\n",
      "\n",
      "    accuracy                           0.74     21208\n",
      "   macro avg       0.74      0.74      0.74     21208\n",
      "weighted avg       0.74      0.74      0.74     21208\n",
      "\n"
     ]
    }
   ],
   "source": [
    "from sklearn.metrics import classification_report\n",
    "target_names = ['no diabetes', 'diabetes']\n",
    "print(classification_report(y_test, y_pred, target_names=target_names))"
   ]
  },
  {
   "cell_type": "code",
   "execution_count": 53,
   "metadata": {},
   "outputs": [
    {
     "name": "stdout",
     "output_type": "stream",
     "text": [
      "Accuracy: 0.7412297246322143\n"
     ]
    }
   ],
   "source": [
    "print(\"Accuracy:\",metrics.accuracy_score(y_test, y_pred))"
   ]
  },
  {
   "cell_type": "code",
   "execution_count": 77,
   "metadata": {},
   "outputs": [
    {
     "data": {
      "text/plain": [
       "0.7357944263481723"
      ]
     },
     "execution_count": 77,
     "metadata": {},
     "output_type": "execute_result"
    }
   ],
   "source": [
    "print(metrics.accuracy_score(y_test, y_pred))\n",
    "print(metrics.f1_score(y_test,y_pred))\n",
    "print(metrics.precision_score(y_test,y_pred))"
   ]
  },
  {
   "cell_type": "code",
   "execution_count": 56,
   "metadata": {},
   "outputs": [
    {
     "data": {
      "text/plain": [
       "0.7311167329237441"
      ]
     },
     "execution_count": 56,
     "metadata": {},
     "output_type": "execute_result"
    }
   ],
   "source": [
    "metrics.precision_score(y_test,y_pred)"
   ]
  },
  {
   "cell_type": "code",
   "execution_count": 54,
   "metadata": {},
   "outputs": [
    {
     "name": "stderr",
     "output_type": "stream",
     "text": [
      "c:\\Users\\qiuxi\\Anaconda3_2\\lib\\site-packages\\sklearn\\base.py:444: UserWarning: X has feature names, but LogisticRegression was fitted without feature names\n",
      "  f\"X has feature names, but {self.__class__.__name__} was fitted without\"\n"
     ]
    },
    {
     "data": {
      "image/png": "[encoded data removed]",
      "text/plain": [
       "<Figure size 432x288 with 1 Axes>"
      ]
     },
     "metadata": {
      "needs_background": "light"
     },
     "output_type": "display_data"
    }
   ],
   "source": [
    "y_pred_proba = logreg.predict_proba(X_test)[::,1]\n",
    "fpr, tpr, _ = metrics.roc_curve(y_test,  y_pred_proba)\n",
    "auc = metrics.roc_auc_score(y_test, y_pred_proba)\n",
    "plt.plot(fpr,tpr,label=\"data 1, auc=\"+str(auc))\n",
    "plt.legend(loc=4)\n",
    "plt.show()"
   ]
  },
  {
   "cell_type": "code",
   "execution_count": null,
   "metadata": {},
   "outputs": [
    {
     "name": "stderr",
     "output_type": "stream",
     "text": [
      "c:\\Users\\qiuxi\\Anaconda3_2\\lib\\site-packages\\sklearn\\base.py:444: UserWarning: X has feature names, but LogisticRegression was fitted without feature names\n",
      "  f\"X has feature names, but {self.__class__.__name__} was fitted without\"\n"
     ]
    },
    {
     "data": {
      "image/png": "[encoded data removed]",
      "text/plain": [
       "<Figure size 432x288 with 1 Axes>"
      ]
     },
     "metadata": {},
     "output_type": "display_data"
    }
   ],
   "source": [
    "y_pred_proba = logreg.predict_proba(X_test)[::,1]\n",
    "fpr, tpr, _ = metrics.roc_curve(y_test,  y_pred_proba)\n",
    "auc = metrics.roc_auc_score(y_test, y_pred_proba)\n",
    "plt.plot(fpr,tpr,label=\"data 1, auc=\"+str(auc))\n",
    "plt.legend(loc=4)\n",
    "plt.show()"
   ]
  },
  {
   "cell_type": "code",
   "execution_count": 55,
   "metadata": {},
   "outputs": [
    {
     "data": {
      "text/plain": [
       "<AxesSubplot:title={'center':'PR Curve for Logistic Regression'}, xlabel='Recall', ylabel='Precision'>"
      ]
     },
     "execution_count": 55,
     "metadata": {},
     "output_type": "execute_result"
    },
    {
     "data": {
      "image/png": "[encoded data removed]",
      "text/plain": [
       "<Figure size 432x288 with 1 Axes>"
      ]
     },
     "metadata": {
      "needs_background": "light"
     },
     "output_type": "display_data"
    }
   ],
   "source": [
    "y_log_proba = logreg.predict_proba(X_test_scaled)\n",
    "skplt.metrics.plot_precision_recall(y_test, y_log_proba, title = 'PR Curve for Logistic Regression')"
   ]
  },
  {
   "attachments": {},
   "cell_type": "markdown",
   "metadata": {},
   "source": [
    "### Random Forest(MRF)"
   ]
  },
  {
   "cell_type": "code",
   "execution_count": 57,
   "metadata": {},
   "outputs": [
    {
     "name": "stderr",
     "output_type": "stream",
     "text": [
      "c:\\Users\\qiuxi\\Anaconda3_2\\lib\\site-packages\\ipykernel_launcher.py:4: DataConversionWarning: A column-vector y was passed when a 1d array was expected. Please change the shape of y to (n_samples,), for example using ravel().\n",
      "  after removing the cwd from sys.path.\n"
     ]
    }
   ],
   "source": [
    "#model\n",
    "clf=RandomForestClassifier(n_estimators=100)\n",
    "\n",
    "clf.fit(X_train_scaled,y_train)\n",
    "\n",
    "y_pred=clf.predict(X_test_scaled)"
   ]
  },
  {
   "cell_type": "code",
   "execution_count": 58,
   "metadata": {},
   "outputs": [
    {
     "data": {
      "text/plain": [
       "array([[7207, 3397],\n",
       "       [2499, 8105]], dtype=int64)"
      ]
     },
     "execution_count": 58,
     "metadata": {},
     "output_type": "execute_result"
    }
   ],
   "source": [
    "cnf_matrix2 = metrics.confusion_matrix(y_test, y_pred)\n",
    "cnf_matrix2"
   ]
  },
  {
   "cell_type": "code",
   "execution_count": 59,
   "metadata": {},
   "outputs": [
    {
     "data": {
      "text/plain": [
       "Text(0.5, 257.44, 'Predicted label')"
      ]
     },
     "execution_count": 59,
     "metadata": {},
     "output_type": "execute_result"
    },
    {
     "data": {
      "image/png": "[encoded data removed]",
      "text/plain": [
       "<Figure size 432x288 with 2 Axes>"
      ]
     },
     "metadata": {
      "needs_background": "light"
     },
     "output_type": "display_data"
    }
   ],
   "source": [
    "class_names=[0,1] # name  of classes\n",
    "fig, ax = plt.subplots()\n",
    "tick_marks = np.arange(len(class_names))\n",
    "plt.xticks(tick_marks, class_names)\n",
    "plt.yticks(tick_marks, class_names)\n",
    "# create heatmap\n",
    "sns.heatmap(pd.DataFrame(cnf_matrix2), annot=True, cmap=\"YlGnBu\" ,fmt='g')\n",
    "ax.xaxis.set_label_position(\"top\")\n",
    "plt.tight_layout()\n",
    "plt.title('Confusion matrix', y=1.1)\n",
    "plt.ylabel('Actual label')\n",
    "plt.xlabel('Predicted label')\n",
    "\n",
    "# Text(0.5,257.44,'Predicted label');"
   ]
  },
  {
   "cell_type": "code",
   "execution_count": 60,
   "metadata": {},
   "outputs": [
    {
     "name": "stderr",
     "output_type": "stream",
     "text": [
      "c:\\Users\\qiuxi\\Anaconda3_2\\lib\\site-packages\\ipykernel_launcher.py:2: DataConversionWarning: A column-vector y was passed when a 1d array was expected. Please change the shape of y to (n_samples,), for example using ravel().\n",
      "  \n"
     ]
    },
    {
     "data": {
      "text/plain": [
       "RandomForestClassifier()"
      ]
     },
     "execution_count": 60,
     "metadata": {},
     "output_type": "execute_result"
    }
   ],
   "source": [
    "clf=RandomForestClassifier(n_estimators=100)\n",
    "clf.fit(X_train_scaled, y_train)"
   ]
  },
  {
   "cell_type": "code",
   "execution_count": 61,
   "metadata": {},
   "outputs": [
    {
     "data": {
      "text/plain": [
       "BMI                     0.212987\n",
       "Age                     0.151984\n",
       "GenHlth                 0.129842\n",
       "PhysHlth                0.086879\n",
       "Hypertension            0.079856\n",
       "MentHlth                0.067530\n",
       "HighChol                0.038612\n",
       "Smoker                  0.034061\n",
       "Fruits                  0.033247\n",
       "Sex                     0.030730\n",
       "DiffWalk                0.029698\n",
       "PhysActivity            0.028141\n",
       "Veggies                 0.026713\n",
       "HeartDiseaseorAttack    0.019656\n",
       "Stroke                  0.012043\n",
       "HvyAlcoholConsump       0.011152\n",
       "CholCheck               0.006869\n",
       "dtype: float64"
      ]
     },
     "execution_count": 61,
     "metadata": {},
     "output_type": "execute_result"
    }
   ],
   "source": [
    "feature_imp = pd.Series(clf.feature_importances_,index=X.columns).sort_values(ascending=False)\n",
    "feature_imp"
   ]
  },
  {
   "cell_type": "code",
   "execution_count": 68,
   "metadata": {},
   "outputs": [
    {
     "data": {
      "text/plain": [
       "Index(['Age', 'Sex', 'HighChol', 'CholCheck', 'BMI', 'Smoker',\n",
       "       'HeartDiseaseorAttack', 'PhysActivity', 'Fruits', 'Veggies',\n",
       "       'HvyAlcoholConsump', 'GenHlth', 'MentHlth', 'PhysHlth', 'DiffWalk',\n",
       "       'Diabetes', 'Hypertension', 'Stroke'],\n",
       "      dtype='object')"
      ]
     },
     "execution_count": 68,
     "metadata": {},
     "output_type": "execute_result"
    }
   ],
   "source": [
    "data.columns"
   ]
  },
  {
   "cell_type": "code",
   "execution_count": 69,
   "metadata": {},
   "outputs": [],
   "source": [
    "features =['Age', 'Sex', 'HighChol', 'CholCheck', 'BMI', 'Smoker',\n",
    "       'HeartDiseaseorAttack', 'PhysActivity', 'Fruits', 'Veggies',\n",
    "       'HvyAlcoholConsump', 'GenHlth', 'MentHlth', 'PhysHlth', 'DiffWalk',\n",
    "        'Hypertension', 'Stroke']"
   ]
  },
  {
   "cell_type": "code",
   "execution_count": 71,
   "metadata": {},
   "outputs": [
    {
     "data": {
      "text/plain": [
       "'Age'"
      ]
     },
     "execution_count": 71,
     "metadata": {},
     "output_type": "execute_result"
    }
   ],
   "source": [
    "features[0]"
   ]
  },
  {
   "cell_type": "code",
   "execution_count": 73,
   "metadata": {},
   "outputs": [
    {
     "data": {
      "text/plain": [
       "Text(0.5, 0, 'Relative Importance')"
      ]
     },
     "execution_count": 73,
     "metadata": {},
     "output_type": "execute_result"
    },
    {
     "data": {
      "image/png": "[encoded data removed]",
      "text/plain": [
       "<Figure size 432x288 with 1 Axes>"
      ]
     },
     "metadata": {
      "needs_background": "light"
     },
     "output_type": "display_data"
    }
   ],
   "source": [
    "importances = clf.feature_importances_\n",
    "indices = np.argsort(importances)\n",
    "\n",
    "plt.figure(1)\n",
    "plt.title('Feature Importances')\n",
    "plt.barh(range(len(indices)), importances[indices], color='steelblue', align='center')\n",
    "plt.yticks(range(len(indices)), [features[i] for i in indices])\n",
    "plt.xlabel('Relative Importance')"
   ]
  },
  {
   "cell_type": "code",
   "execution_count": 61,
   "metadata": {},
   "outputs": [
    {
     "name": "stdout",
     "output_type": "stream",
     "text": [
      "              precision    recall  f1-score   support\n",
      "\n",
      " no diabetes       0.75      0.68      0.71     10604\n",
      "    diabetes       0.71      0.77      0.74     10604\n",
      "\n",
      "    accuracy                           0.72     21208\n",
      "   macro avg       0.73      0.72      0.72     21208\n",
      "weighted avg       0.73      0.72      0.72     21208\n",
      "\n"
     ]
    }
   ],
   "source": [
    "target_names = ['no diabetes', 'diabetes']\n",
    "print(classification_report(y_test, y_pred, target_names=target_names))"
   ]
  },
  {
   "cell_type": "code",
   "execution_count": 62,
   "metadata": {},
   "outputs": [
    {
     "name": "stdout",
     "output_type": "stream",
     "text": [
      "Accuracy: 0.7246322142587702\n"
     ]
    }
   ],
   "source": [
    "print(\"Accuracy:\",metrics.accuracy_score(y_test, y_pred))"
   ]
  },
  {
   "cell_type": "code",
   "execution_count": 63,
   "metadata": {},
   "outputs": [
    {
     "name": "stdout",
     "output_type": "stream",
     "text": [
      "0.7219917012448133\n",
      "0.7332850809734914\n",
      "0.7046600591201531\n",
      "0.764334213504338\n"
     ]
    }
   ],
   "source": [
    "print(metrics.accuracy_score(y_test, y_pred))\n",
    "print(metrics.f1_score(y_test,y_pred))\n",
    "print(metrics.precision_score(y_test,y_pred))\n",
    "print(metrics.recall_score(y_test,y_pred))"
   ]
  },
  {
   "attachments": {},
   "cell_type": "markdown",
   "metadata": {},
   "source": [
    "### knn classification\n"
   ]
  },
  {
   "cell_type": "code",
   "execution_count": 74,
   "metadata": {},
   "outputs": [
    {
     "data": {
      "text/plain": [
       "array([[7121, 3483],\n",
       "       [2998, 7606]], dtype=int64)"
      ]
     },
     "execution_count": 74,
     "metadata": {},
     "output_type": "execute_result"
    }
   ],
   "source": [
    "knn1 = KNeighborsClassifier(n_neighbors=3)\n",
    "knn1.fit(X_train_scaled,y_train.values.ravel())\n",
    "y_pred3 = knn1.predict(X_test_scaled)\n",
    "cnf_matrix3 = metrics.confusion_matrix(y_test, y_pred3)\n",
    "cnf_matrix3"
   ]
  },
  {
   "cell_type": "code",
   "execution_count": 75,
   "metadata": {},
   "outputs": [
    {
     "data": {
      "text/plain": [
       "Text(0.5, 257.44, 'Predicted label')"
      ]
     },
     "execution_count": 75,
     "metadata": {},
     "output_type": "execute_result"
    },
    {
     "data": {
      "image/png": "[encoded data removed]",
      "text/plain": [
       "<Figure size 432x288 with 2 Axes>"
      ]
     },
     "metadata": {
      "needs_background": "light"
     },
     "output_type": "display_data"
    }
   ],
   "source": [
    "class_names=[0,1] # name  of classes\n",
    "fig, ax = plt.subplots()\n",
    "tick_marks = np.arange(len(class_names))\n",
    "plt.xticks(tick_marks, class_names)\n",
    "plt.yticks(tick_marks, class_names)\n",
    "# create heatmap\n",
    "sns.heatmap(pd.DataFrame(cnf_matrix3), annot=True, cmap=\"YlGnBu\" ,fmt='g')\n",
    "ax.xaxis.set_label_position(\"top\")\n",
    "plt.tight_layout()\n",
    "plt.title('Confusion matrix', y=1.1)\n",
    "plt.ylabel('Actual label')\n",
    "plt.xlabel('Predicted label')"
   ]
  },
  {
   "cell_type": "code",
   "execution_count": 65,
   "metadata": {},
   "outputs": [
    {
     "name": "stdout",
     "output_type": "stream",
     "text": [
      "Accuracy: 0.694407770652584\n"
     ]
    }
   ],
   "source": [
    "print(\"Accuracy:\",metrics.accuracy_score(y_test, y_pred3))"
   ]
  },
  {
   "cell_type": "code",
   "execution_count": 72,
   "metadata": {},
   "outputs": [
    {
     "name": "stdout",
     "output_type": "stream",
     "text": [
      "              precision    recall  f1-score   support\n",
      "\n",
      " no diabetes       0.70      0.67      0.69     10604\n",
      "    diabetes       0.69      0.72      0.70     10604\n",
      "\n",
      "    accuracy                           0.69     21208\n",
      "   macro avg       0.69      0.69      0.69     21208\n",
      "weighted avg       0.69      0.69      0.69     21208\n",
      "\n"
     ]
    }
   ],
   "source": [
    "print(classification_report(y_test, y_pred3, target_names=target_names))"
   ]
  },
  {
   "cell_type": "code",
   "execution_count": 66,
   "metadata": {},
   "outputs": [
    {
     "data": {
      "text/plain": [
       "array([[7202, 3402],\n",
       "       [2692, 7912]], dtype=int64)"
      ]
     },
     "execution_count": 66,
     "metadata": {},
     "output_type": "execute_result"
    }
   ],
   "source": [
    "#k=5\n",
    "knn2 = KNeighborsClassifier(n_neighbors=5)\n",
    "knn2.fit(X_train_scaled,y_train.values.ravel())\n",
    "y_pred4 = knn2.predict(X_test_scaled)\n",
    "cnf_matrix4 = metrics.confusion_matrix(y_test, y_pred4)\n",
    "cnf_matrix4\n"
   ]
  },
  {
   "cell_type": "code",
   "execution_count": 67,
   "metadata": {},
   "outputs": [
    {
     "name": "stdout",
     "output_type": "stream",
     "text": [
      "Accuracy: 0.7126556016597511\n"
     ]
    }
   ],
   "source": [
    "print(\"Accuracy:\",metrics.accuracy_score(y_test, y_pred4))"
   ]
  },
  {
   "cell_type": "code",
   "execution_count": 73,
   "metadata": {},
   "outputs": [
    {
     "name": "stdout",
     "output_type": "stream",
     "text": [
      "              precision    recall  f1-score   support\n",
      "\n",
      " no diabetes       0.73      0.68      0.70     10604\n",
      "    diabetes       0.70      0.75      0.72     10604\n",
      "\n",
      "    accuracy                           0.71     21208\n",
      "   macro avg       0.71      0.71      0.71     21208\n",
      "weighted avg       0.71      0.71      0.71     21208\n",
      "\n"
     ]
    }
   ],
   "source": [
    "print(classification_report(y_test, y_pred4, target_names=target_names))"
   ]
  },
  {
   "cell_type": "code",
   "execution_count": 76,
   "metadata": {},
   "outputs": [
    {
     "data": {
      "text/plain": [
       "array([[7191, 3413],\n",
       "       [2530, 8074]], dtype=int64)"
      ]
     },
     "execution_count": 76,
     "metadata": {},
     "output_type": "execute_result"
    }
   ],
   "source": [
    "#k=7\n",
    "knn3 = KNeighborsClassifier(n_neighbors=7)\n",
    "knn3.fit(X_train_scaled,y_train.values.ravel())\n",
    "y_pred5 = knn3.predict(X_test_scaled)\n",
    "cnf_matrix5 = metrics.confusion_matrix(y_test, y_pred5)\n",
    "cnf_matrix5"
   ]
  },
  {
   "cell_type": "code",
   "execution_count": 77,
   "metadata": {},
   "outputs": [
    {
     "name": "stdout",
     "output_type": "stream",
     "text": [
      "Accuracy: 0.7197755563938136\n"
     ]
    }
   ],
   "source": [
    "print(\"Accuracy:\",metrics.accuracy_score(y_test, y_pred5))"
   ]
  },
  {
   "cell_type": "code",
   "execution_count": 79,
   "metadata": {},
   "outputs": [
    {
     "name": "stdout",
     "output_type": "stream",
     "text": [
      "0.7197755563938136\n",
      "0.7309764157349147\n",
      "0.7028815182380082\n",
      "0.7614107883817427\n"
     ]
    }
   ],
   "source": [
    "print(metrics.accuracy_score(y_test, y_pred5))\n",
    "print(metrics.f1_score(y_test,y_pred5))\n",
    "print(metrics.precision_score(y_test,y_pred5))\n",
    "print(metrics.recall_score(y_test,y_pred5))"
   ]
  },
  {
   "cell_type": "code",
   "execution_count": 75,
   "metadata": {},
   "outputs": [
    {
     "name": "stderr",
     "output_type": "stream",
     "text": [
      "c:\\Users\\qiuxi\\Anaconda3_2\\lib\\site-packages\\sklearn\\base.py:444: UserWarning: X has feature names, but KNeighborsClassifier was fitted without feature names\n",
      "  f\"X has feature names, but {self.__class__.__name__} was fitted without\"\n"
     ]
    }
   ],
   "source": [
    "y_knn_proba = knn3.predict_proba(X_test)\n"
   ]
  },
  {
   "cell_type": "code",
   "execution_count": 76,
   "metadata": {},
   "outputs": [
    {
     "data": {
      "text/plain": [
       "<AxesSubplot:title={'center':'PR Curve for knn'}, xlabel='Recall', ylabel='Precision'>"
      ]
     },
     "execution_count": 76,
     "metadata": {},
     "output_type": "execute_result"
    },
    {
     "data": {
      "image/png": "[encoded data removed]",
      "text/plain": [
       "<Figure size 432x288 with 1 Axes>"
      ]
     },
     "metadata": {
      "needs_background": "light"
     },
     "output_type": "display_data"
    }
   ],
   "source": [
    "skplt.metrics.plot_precision_recall(y_test, y_knn_proba, title = 'PR Curve for knn')"
   ]
  },
  {
   "cell_type": "code",
   "execution_count": 133,
   "metadata": {},
   "outputs": [
    {
     "name": "stderr",
     "output_type": "stream",
     "text": [
      "c:\\Users\\qiuxi\\Anaconda3_2\\lib\\site-packages\\sklearn\\base.py:444: UserWarning: X has feature names, but RandomForestClassifier was fitted without feature names\n",
      "  f\"X has feature names, but {self.__class__.__name__} was fitted without\"\n"
     ]
    }
   ],
   "source": [
    "y_clf_proba = clf.predict_proba(X_test)"
   ]
  },
  {
   "cell_type": "code",
   "execution_count": 135,
   "metadata": {},
   "outputs": [
    {
     "data": {
      "text/plain": [
       "<AxesSubplot:title={'center':'PR Curve for rf'}, xlabel='Recall', ylabel='Precision'>"
      ]
     },
     "execution_count": 135,
     "metadata": {},
     "output_type": "execute_result"
    },
    {
     "data": {
      "image/png": "[encoded data removed]",
      "text/plain": [
       "<Figure size 432x288 with 1 Axes>"
      ]
     },
     "metadata": {
      "needs_background": "light"
     },
     "output_type": "display_data"
    }
   ],
   "source": [
    "skplt.metrics.plot_precision_recall(y_test, y_clf_proba, title = 'PR Curve for rf')"
   ]
  },
  {
   "cell_type": "code",
   "execution_count": 175,
   "metadata": {},
   "outputs": [
    {
     "data": {
      "text/plain": [
       "26.0"
      ]
     },
     "execution_count": 175,
     "metadata": {},
     "output_type": "execute_result"
    }
   ],
   "source": [
    "data.iloc[0]['BMI']"
   ]
  },
  {
   "cell_type": "code",
   "execution_count": 176,
   "metadata": {},
   "outputs": [
    {
     "name": "stdout",
     "output_type": "stream",
     "text": [
      "Age                      2.0\n",
      "Sex                      0.0\n",
      "HighChol                 0.0\n",
      "CholCheck                1.0\n",
      "BMI                     92.0\n",
      "Smoker                   1.0\n",
      "HeartDiseaseorAttack     0.0\n",
      "PhysActivity             1.0\n",
      "Fruits                   1.0\n",
      "Veggies                  1.0\n",
      "HvyAlcoholConsump        0.0\n",
      "GenHlth                  2.0\n",
      "MentHlth                30.0\n",
      "PhysHlth                 0.0\n",
      "DiffWalk                 0.0\n",
      "Diabetes                 0.0\n",
      "Hypertension             0.0\n",
      "Stroke                   0.0\n",
      "Name: 553, dtype: float64\n",
      "Age                     10.0\n",
      "Sex                      0.0\n",
      "HighChol                 1.0\n",
      "CholCheck                1.0\n",
      "BMI                     98.0\n",
      "Smoker                   1.0\n",
      "HeartDiseaseorAttack     0.0\n",
      "PhysActivity             1.0\n",
      "Fruits                   1.0\n",
      "Veggies                  1.0\n",
      "HvyAlcoholConsump        0.0\n",
      "GenHlth                  2.0\n",
      "MentHlth                 0.0\n",
      "PhysHlth                20.0\n",
      "DiffWalk                 0.0\n",
      "Diabetes                 0.0\n",
      "Hypertension             0.0\n",
      "Stroke                   0.0\n",
      "Name: 612, dtype: float64\n",
      "Age                      2.0\n",
      "Sex                      0.0\n",
      "HighChol                 0.0\n",
      "CholCheck                1.0\n",
      "BMI                     86.0\n",
      "Smoker                   0.0\n",
      "HeartDiseaseorAttack     0.0\n",
      "PhysActivity             0.0\n",
      "Fruits                   1.0\n",
      "Veggies                  1.0\n",
      "HvyAlcoholConsump        0.0\n",
      "GenHlth                  3.0\n",
      "MentHlth                 0.0\n",
      "PhysHlth                 0.0\n",
      "DiffWalk                 0.0\n",
      "Diabetes                 0.0\n",
      "Hypertension             0.0\n",
      "Stroke                   0.0\n",
      "Name: 12592, dtype: float64\n",
      "Age                      5.0\n",
      "Sex                      0.0\n",
      "HighChol                 0.0\n",
      "CholCheck                1.0\n",
      "BMI                     87.0\n",
      "Smoker                   1.0\n",
      "HeartDiseaseorAttack     0.0\n",
      "PhysActivity             0.0\n",
      "Fruits                   0.0\n",
      "Veggies                  1.0\n",
      "HvyAlcoholConsump        0.0\n",
      "GenHlth                  3.0\n",
      "MentHlth                30.0\n",
      "PhysHlth                 7.0\n",
      "DiffWalk                 0.0\n",
      "Diabetes                 0.0\n",
      "Hypertension             0.0\n",
      "Stroke                   0.0\n",
      "Name: 17222, dtype: float64\n",
      "Age                      2.0\n",
      "Sex                      0.0\n",
      "HighChol                 0.0\n",
      "CholCheck                1.0\n",
      "BMI                     92.0\n",
      "Smoker                   0.0\n",
      "HeartDiseaseorAttack     0.0\n",
      "PhysActivity             1.0\n",
      "Fruits                   1.0\n",
      "Veggies                  1.0\n",
      "HvyAlcoholConsump        0.0\n",
      "GenHlth                  1.0\n",
      "MentHlth                 0.0\n",
      "PhysHlth                 0.0\n",
      "DiffWalk                 0.0\n",
      "Diabetes                 0.0\n",
      "Hypertension             0.0\n",
      "Stroke                   0.0\n",
      "Name: 17943, dtype: float64\n",
      "Age                      9.0\n",
      "Sex                      0.0\n",
      "HighChol                 1.0\n",
      "CholCheck                1.0\n",
      "BMI                     95.0\n",
      "Smoker                   1.0\n",
      "HeartDiseaseorAttack     0.0\n",
      "PhysActivity             0.0\n",
      "Fruits                   0.0\n",
      "Veggies                  0.0\n",
      "HvyAlcoholConsump        0.0\n",
      "GenHlth                  2.0\n",
      "MentHlth                 0.0\n",
      "PhysHlth                 0.0\n",
      "DiffWalk                 1.0\n",
      "Diabetes                 0.0\n",
      "Hypertension             0.0\n",
      "Stroke                   0.0\n",
      "Name: 18303, dtype: float64\n",
      "Age                     11.0\n",
      "Sex                      0.0\n",
      "HighChol                 1.0\n",
      "CholCheck                1.0\n",
      "BMI                     89.0\n",
      "Smoker                   0.0\n",
      "HeartDiseaseorAttack     0.0\n",
      "PhysActivity             1.0\n",
      "Fruits                   0.0\n",
      "Veggies                  1.0\n",
      "HvyAlcoholConsump        0.0\n",
      "GenHlth                  2.0\n",
      "MentHlth                 0.0\n",
      "PhysHlth                 0.0\n",
      "DiffWalk                 0.0\n",
      "Diabetes                 0.0\n",
      "Hypertension             0.0\n",
      "Stroke                   0.0\n",
      "Name: 18688, dtype: float64\n",
      "Age                      6.0\n",
      "Sex                      0.0\n",
      "HighChol                 1.0\n",
      "CholCheck                0.0\n",
      "BMI                     95.0\n",
      "Smoker                   1.0\n",
      "HeartDiseaseorAttack     0.0\n",
      "PhysActivity             0.0\n",
      "Fruits                   0.0\n",
      "Veggies                  1.0\n",
      "HvyAlcoholConsump        0.0\n",
      "GenHlth                  2.0\n",
      "MentHlth                 0.0\n",
      "PhysHlth                 0.0\n",
      "DiffWalk                 0.0\n",
      "Diabetes                 0.0\n",
      "Hypertension             0.0\n",
      "Stroke                   0.0\n",
      "Name: 21467, dtype: float64\n",
      "Age                      5.0\n",
      "Sex                      1.0\n",
      "HighChol                 1.0\n",
      "CholCheck                1.0\n",
      "BMI                     87.0\n",
      "Smoker                   1.0\n",
      "HeartDiseaseorAttack     0.0\n",
      "PhysActivity             0.0\n",
      "Fruits                   0.0\n",
      "Veggies                  1.0\n",
      "HvyAlcoholConsump        0.0\n",
      "GenHlth                  4.0\n",
      "MentHlth                 0.0\n",
      "PhysHlth                 0.0\n",
      "DiffWalk                 0.0\n",
      "Diabetes                 0.0\n",
      "Hypertension             0.0\n",
      "Stroke                   0.0\n",
      "Name: 21936, dtype: float64\n",
      "Age                     13.0\n",
      "Sex                      0.0\n",
      "HighChol                 1.0\n",
      "CholCheck                1.0\n",
      "BMI                     92.0\n",
      "Smoker                   0.0\n",
      "HeartDiseaseorAttack     0.0\n",
      "PhysActivity             1.0\n",
      "Fruits                   1.0\n",
      "Veggies                  1.0\n",
      "HvyAlcoholConsump        0.0\n",
      "GenHlth                  2.0\n",
      "MentHlth                 0.0\n",
      "PhysHlth                 0.0\n",
      "DiffWalk                 0.0\n",
      "Diabetes                 0.0\n",
      "Hypertension             0.0\n",
      "Stroke                   0.0\n",
      "Name: 23645, dtype: float64\n",
      "Age                      3.0\n",
      "Sex                      0.0\n",
      "HighChol                 0.0\n",
      "CholCheck                1.0\n",
      "BMI                     87.0\n",
      "Smoker                   0.0\n",
      "HeartDiseaseorAttack     0.0\n",
      "PhysActivity             1.0\n",
      "Fruits                   1.0\n",
      "Veggies                  1.0\n",
      "HvyAlcoholConsump        0.0\n",
      "GenHlth                  3.0\n",
      "MentHlth                 0.0\n",
      "PhysHlth                 0.0\n",
      "DiffWalk                 0.0\n",
      "Diabetes                 0.0\n",
      "Hypertension             0.0\n",
      "Stroke                   0.0\n",
      "Name: 26565, dtype: float64\n",
      "Age                      6.0\n",
      "Sex                      0.0\n",
      "HighChol                 1.0\n",
      "CholCheck                1.0\n",
      "BMI                     95.0\n",
      "Smoker                   1.0\n",
      "HeartDiseaseorAttack     0.0\n",
      "PhysActivity             0.0\n",
      "Fruits                   1.0\n",
      "Veggies                  1.0\n",
      "HvyAlcoholConsump        0.0\n",
      "GenHlth                  5.0\n",
      "MentHlth                15.0\n",
      "PhysHlth                30.0\n",
      "DiffWalk                 1.0\n",
      "Diabetes                 0.0\n",
      "Hypertension             1.0\n",
      "Stroke                   0.0\n",
      "Name: 27801, dtype: float64\n",
      "Age                     11.0\n",
      "Sex                      0.0\n",
      "HighChol                 1.0\n",
      "CholCheck                1.0\n",
      "BMI                     92.0\n",
      "Smoker                   1.0\n",
      "HeartDiseaseorAttack     0.0\n",
      "PhysActivity             1.0\n",
      "Fruits                   0.0\n",
      "Veggies                  1.0\n",
      "HvyAlcoholConsump        0.0\n",
      "GenHlth                  3.0\n",
      "MentHlth                 4.0\n",
      "PhysHlth                 0.0\n",
      "DiffWalk                 0.0\n",
      "Diabetes                 0.0\n",
      "Hypertension             0.0\n",
      "Stroke                   0.0\n",
      "Name: 30202, dtype: float64\n",
      "Age                      8.0\n",
      "Sex                      0.0\n",
      "HighChol                 1.0\n",
      "CholCheck                1.0\n",
      "BMI                     87.0\n",
      "Smoker                   0.0\n",
      "HeartDiseaseorAttack     0.0\n",
      "PhysActivity             1.0\n",
      "Fruits                   1.0\n",
      "Veggies                  1.0\n",
      "HvyAlcoholConsump        0.0\n",
      "GenHlth                  3.0\n",
      "MentHlth                 0.0\n",
      "PhysHlth                 0.0\n",
      "DiffWalk                 0.0\n",
      "Diabetes                 0.0\n",
      "Hypertension             1.0\n",
      "Stroke                   0.0\n",
      "Name: 30557, dtype: float64\n",
      "Age                      6.0\n",
      "Sex                      0.0\n",
      "HighChol                 1.0\n",
      "CholCheck                1.0\n",
      "BMI                     85.0\n",
      "Smoker                   1.0\n",
      "HeartDiseaseorAttack     1.0\n",
      "PhysActivity             0.0\n",
      "Fruits                   0.0\n",
      "Veggies                  0.0\n",
      "HvyAlcoholConsump        0.0\n",
      "GenHlth                  5.0\n",
      "MentHlth                 0.0\n",
      "PhysHlth                30.0\n",
      "DiffWalk                 1.0\n",
      "Diabetes                 1.0\n",
      "Hypertension             1.0\n",
      "Stroke                   1.0\n",
      "Name: 37189, dtype: float64\n",
      "Age                      4.0\n",
      "Sex                      1.0\n",
      "HighChol                 1.0\n",
      "CholCheck                1.0\n",
      "BMI                     92.0\n",
      "Smoker                   0.0\n",
      "HeartDiseaseorAttack     0.0\n",
      "PhysActivity             0.0\n",
      "Fruits                   0.0\n",
      "Veggies                  1.0\n",
      "HvyAlcoholConsump        0.0\n",
      "GenHlth                  5.0\n",
      "MentHlth                30.0\n",
      "PhysHlth                30.0\n",
      "DiffWalk                 0.0\n",
      "Diabetes                 1.0\n",
      "Hypertension             1.0\n",
      "Stroke                   0.0\n",
      "Name: 38350, dtype: float64\n",
      "Age                      9.0\n",
      "Sex                      0.0\n",
      "HighChol                 1.0\n",
      "CholCheck                1.0\n",
      "BMI                     87.0\n",
      "Smoker                   1.0\n",
      "HeartDiseaseorAttack     0.0\n",
      "PhysActivity             0.0\n",
      "Fruits                   0.0\n",
      "Veggies                  0.0\n",
      "HvyAlcoholConsump        0.0\n",
      "GenHlth                  1.0\n",
      "MentHlth                 0.0\n",
      "PhysHlth                 0.0\n",
      "DiffWalk                 0.0\n",
      "Diabetes                 1.0\n",
      "Hypertension             1.0\n",
      "Stroke                   0.0\n",
      "Name: 45845, dtype: float64\n",
      "Age                      8.0\n",
      "Sex                      0.0\n",
      "HighChol                 1.0\n",
      "CholCheck                1.0\n",
      "BMI                     92.0\n",
      "Smoker                   1.0\n",
      "HeartDiseaseorAttack     0.0\n",
      "PhysActivity             0.0\n",
      "Fruits                   1.0\n",
      "Veggies                  1.0\n",
      "HvyAlcoholConsump        0.0\n",
      "GenHlth                  2.0\n",
      "MentHlth                 5.0\n",
      "PhysHlth                 1.0\n",
      "DiffWalk                 0.0\n",
      "Diabetes                 1.0\n",
      "Hypertension             0.0\n",
      "Stroke                   0.0\n",
      "Name: 45846, dtype: float64\n",
      "Age                     12.0\n",
      "Sex                      1.0\n",
      "HighChol                 1.0\n",
      "CholCheck                1.0\n",
      "BMI                     87.0\n",
      "Smoker                   1.0\n",
      "HeartDiseaseorAttack     0.0\n",
      "PhysActivity             1.0\n",
      "Fruits                   0.0\n",
      "Veggies                  1.0\n",
      "HvyAlcoholConsump        0.0\n",
      "GenHlth                  3.0\n",
      "MentHlth                 0.0\n",
      "PhysHlth                 1.0\n",
      "DiffWalk                 0.0\n",
      "Diabetes                 1.0\n",
      "Hypertension             1.0\n",
      "Stroke                   0.0\n",
      "Name: 45848, dtype: float64\n",
      "Age                      8.0\n",
      "Sex                      0.0\n",
      "HighChol                 1.0\n",
      "CholCheck                1.0\n",
      "BMI                     98.0\n",
      "Smoker                   1.0\n",
      "HeartDiseaseorAttack     1.0\n",
      "PhysActivity             0.0\n",
      "Fruits                   1.0\n",
      "Veggies                  1.0\n",
      "HvyAlcoholConsump        0.0\n",
      "GenHlth                  5.0\n",
      "MentHlth                30.0\n",
      "PhysHlth                30.0\n",
      "DiffWalk                 1.0\n",
      "Diabetes                 1.0\n",
      "Hypertension             1.0\n",
      "Stroke                   0.0\n",
      "Name: 45849, dtype: float64\n",
      "Age                     11.0\n",
      "Sex                      0.0\n",
      "HighChol                 1.0\n",
      "CholCheck                1.0\n",
      "BMI                     98.0\n",
      "Smoker                   1.0\n",
      "HeartDiseaseorAttack     1.0\n",
      "PhysActivity             0.0\n",
      "Fruits                   1.0\n",
      "Veggies                  1.0\n",
      "HvyAlcoholConsump        0.0\n",
      "GenHlth                  4.0\n",
      "MentHlth                15.0\n",
      "PhysHlth                10.0\n",
      "DiffWalk                 1.0\n",
      "Diabetes                 1.0\n",
      "Hypertension             1.0\n",
      "Stroke                   1.0\n",
      "Name: 45850, dtype: float64\n",
      "Age                     12.0\n",
      "Sex                      0.0\n",
      "HighChol                 1.0\n",
      "CholCheck                1.0\n",
      "BMI                     92.0\n",
      "Smoker                   0.0\n",
      "HeartDiseaseorAttack     0.0\n",
      "PhysActivity             0.0\n",
      "Fruits                   0.0\n",
      "Veggies                  1.0\n",
      "HvyAlcoholConsump        0.0\n",
      "GenHlth                  4.0\n",
      "MentHlth                 0.0\n",
      "PhysHlth                30.0\n",
      "DiffWalk                 1.0\n",
      "Diabetes                 1.0\n",
      "Hypertension             0.0\n",
      "Stroke                   0.0\n",
      "Name: 45852, dtype: float64\n",
      "Age                     10.0\n",
      "Sex                      0.0\n",
      "HighChol                 1.0\n",
      "CholCheck                1.0\n",
      "BMI                     92.0\n",
      "Smoker                   1.0\n",
      "HeartDiseaseorAttack     1.0\n",
      "PhysActivity             1.0\n",
      "Fruits                   1.0\n",
      "Veggies                  0.0\n",
      "HvyAlcoholConsump        0.0\n",
      "GenHlth                  4.0\n",
      "MentHlth                 0.0\n",
      "PhysHlth                 1.0\n",
      "DiffWalk                 0.0\n",
      "Diabetes                 1.0\n",
      "Hypertension             1.0\n",
      "Stroke                   0.0\n",
      "Name: 45855, dtype: float64\n",
      "Age                     10.0\n",
      "Sex                      0.0\n",
      "HighChol                 0.0\n",
      "CholCheck                1.0\n",
      "BMI                     87.0\n",
      "Smoker                   0.0\n",
      "HeartDiseaseorAttack     0.0\n",
      "PhysActivity             0.0\n",
      "Fruits                   0.0\n",
      "Veggies                  0.0\n",
      "HvyAlcoholConsump        0.0\n",
      "GenHlth                  4.0\n",
      "MentHlth                 0.0\n",
      "PhysHlth                14.0\n",
      "DiffWalk                 1.0\n",
      "Diabetes                 1.0\n",
      "Hypertension             1.0\n",
      "Stroke                   0.0\n",
      "Name: 45857, dtype: float64\n",
      "Age                      8.0\n",
      "Sex                      0.0\n",
      "HighChol                 1.0\n",
      "CholCheck                1.0\n",
      "BMI                     87.0\n",
      "Smoker                   0.0\n",
      "HeartDiseaseorAttack     1.0\n",
      "PhysActivity             1.0\n",
      "Fruits                   1.0\n",
      "Veggies                  1.0\n",
      "HvyAlcoholConsump        0.0\n",
      "GenHlth                  5.0\n",
      "MentHlth                30.0\n",
      "PhysHlth                30.0\n",
      "DiffWalk                 0.0\n",
      "Diabetes                 1.0\n",
      "Hypertension             1.0\n",
      "Stroke                   0.0\n",
      "Name: 46186, dtype: float64\n",
      "Age                     11.0\n",
      "Sex                      0.0\n",
      "HighChol                 1.0\n",
      "CholCheck                1.0\n",
      "BMI                     89.0\n",
      "Smoker                   0.0\n",
      "HeartDiseaseorAttack     0.0\n",
      "PhysActivity             1.0\n",
      "Fruits                   1.0\n",
      "Veggies                  1.0\n",
      "HvyAlcoholConsump        0.0\n",
      "GenHlth                  3.0\n",
      "MentHlth                 0.0\n",
      "PhysHlth                 5.0\n",
      "DiffWalk                 0.0\n",
      "Diabetes                 1.0\n",
      "Hypertension             1.0\n",
      "Stroke                   0.0\n",
      "Name: 46190, dtype: float64\n",
      "Age                      7.0\n",
      "Sex                      0.0\n",
      "HighChol                 0.0\n",
      "CholCheck                1.0\n",
      "BMI                     87.0\n",
      "Smoker                   0.0\n",
      "HeartDiseaseorAttack     0.0\n",
      "PhysActivity             1.0\n",
      "Fruits                   1.0\n",
      "Veggies                  1.0\n",
      "HvyAlcoholConsump        0.0\n",
      "GenHlth                  5.0\n",
      "MentHlth                 5.0\n",
      "PhysHlth                20.0\n",
      "DiffWalk                 0.0\n",
      "Diabetes                 1.0\n",
      "Hypertension             1.0\n",
      "Stroke                   1.0\n",
      "Name: 46192, dtype: float64\n",
      "Age                     13.0\n",
      "Sex                      0.0\n",
      "HighChol                 0.0\n",
      "CholCheck                1.0\n",
      "BMI                     92.0\n",
      "Smoker                   0.0\n",
      "HeartDiseaseorAttack     1.0\n",
      "PhysActivity             0.0\n",
      "Fruits                   1.0\n",
      "Veggies                  0.0\n",
      "HvyAlcoholConsump        0.0\n",
      "GenHlth                  3.0\n",
      "MentHlth                 0.0\n",
      "PhysHlth                 0.0\n",
      "DiffWalk                 1.0\n",
      "Diabetes                 1.0\n",
      "Hypertension             0.0\n",
      "Stroke                   0.0\n",
      "Name: 46194, dtype: float64\n",
      "Age                      6.0\n",
      "Sex                      0.0\n",
      "HighChol                 0.0\n",
      "CholCheck                1.0\n",
      "BMI                     87.0\n",
      "Smoker                   0.0\n",
      "HeartDiseaseorAttack     0.0\n",
      "PhysActivity             0.0\n",
      "Fruits                   0.0\n",
      "Veggies                  1.0\n",
      "HvyAlcoholConsump        0.0\n",
      "GenHlth                  5.0\n",
      "MentHlth                30.0\n",
      "PhysHlth                30.0\n",
      "DiffWalk                 1.0\n",
      "Diabetes                 1.0\n",
      "Hypertension             1.0\n",
      "Stroke                   0.0\n",
      "Name: 46197, dtype: float64\n",
      "Age                      3.0\n",
      "Sex                      1.0\n",
      "HighChol                 0.0\n",
      "CholCheck                1.0\n",
      "BMI                     87.0\n",
      "Smoker                   0.0\n",
      "HeartDiseaseorAttack     0.0\n",
      "PhysActivity             0.0\n",
      "Fruits                   0.0\n",
      "Veggies                  0.0\n",
      "HvyAlcoholConsump        0.0\n",
      "GenHlth                  2.0\n",
      "MentHlth                 0.0\n",
      "PhysHlth                14.0\n",
      "DiffWalk                 0.0\n",
      "Diabetes                 1.0\n",
      "Hypertension             0.0\n",
      "Stroke                   0.0\n",
      "Name: 46199, dtype: float64\n",
      "Age                     10.0\n",
      "Sex                      0.0\n",
      "HighChol                 0.0\n",
      "CholCheck                1.0\n",
      "BMI                     89.0\n",
      "Smoker                   0.0\n",
      "HeartDiseaseorAttack     0.0\n",
      "PhysActivity             0.0\n",
      "Fruits                   1.0\n",
      "Veggies                  1.0\n",
      "HvyAlcoholConsump        0.0\n",
      "GenHlth                  3.0\n",
      "MentHlth                 0.0\n",
      "PhysHlth                 0.0\n",
      "DiffWalk                 0.0\n",
      "Diabetes                 1.0\n",
      "Hypertension             0.0\n",
      "Stroke                   0.0\n",
      "Name: 46207, dtype: float64\n",
      "Age                      8.0\n",
      "Sex                      0.0\n",
      "HighChol                 1.0\n",
      "CholCheck                1.0\n",
      "BMI                     95.0\n",
      "Smoker                   1.0\n",
      "HeartDiseaseorAttack     0.0\n",
      "PhysActivity             0.0\n",
      "Fruits                   0.0\n",
      "Veggies                  1.0\n",
      "HvyAlcoholConsump        0.0\n",
      "GenHlth                  3.0\n",
      "MentHlth                15.0\n",
      "PhysHlth                30.0\n",
      "DiffWalk                 1.0\n",
      "Diabetes                 1.0\n",
      "Hypertension             1.0\n",
      "Stroke                   0.0\n",
      "Name: 46211, dtype: float64\n",
      "Age                      9.0\n",
      "Sex                      0.0\n",
      "HighChol                 1.0\n",
      "CholCheck                1.0\n",
      "BMI                     87.0\n",
      "Smoker                   1.0\n",
      "HeartDiseaseorAttack     0.0\n",
      "PhysActivity             1.0\n",
      "Fruits                   1.0\n",
      "Veggies                  1.0\n",
      "HvyAlcoholConsump        0.0\n",
      "GenHlth                  5.0\n",
      "MentHlth                20.0\n",
      "PhysHlth                30.0\n",
      "DiffWalk                 1.0\n",
      "Diabetes                 1.0\n",
      "Hypertension             1.0\n",
      "Stroke                   0.0\n",
      "Name: 46212, dtype: float64\n",
      "Age                     10.0\n",
      "Sex                      0.0\n",
      "HighChol                 0.0\n",
      "CholCheck                1.0\n",
      "BMI                     98.0\n",
      "Smoker                   0.0\n",
      "HeartDiseaseorAttack     0.0\n",
      "PhysActivity             1.0\n",
      "Fruits                   1.0\n",
      "Veggies                  1.0\n",
      "HvyAlcoholConsump        0.0\n",
      "GenHlth                  3.0\n",
      "MentHlth                 2.0\n",
      "PhysHlth                 0.0\n",
      "DiffWalk                 0.0\n",
      "Diabetes                 1.0\n",
      "Hypertension             0.0\n",
      "Stroke                   0.0\n",
      "Name: 46214, dtype: float64\n",
      "Age                      2.0\n",
      "Sex                      0.0\n",
      "HighChol                 0.0\n",
      "CholCheck                1.0\n",
      "BMI                     87.0\n",
      "Smoker                   0.0\n",
      "HeartDiseaseorAttack     0.0\n",
      "PhysActivity             0.0\n",
      "Fruits                   1.0\n",
      "Veggies                  0.0\n",
      "HvyAlcoholConsump        0.0\n",
      "GenHlth                  3.0\n",
      "MentHlth                 2.0\n",
      "PhysHlth                 1.0\n",
      "DiffWalk                 0.0\n",
      "Diabetes                 1.0\n",
      "Hypertension             1.0\n",
      "Stroke                   0.0\n",
      "Name: 54885, dtype: float64\n",
      "Age                      5.0\n",
      "Sex                      1.0\n",
      "HighChol                 1.0\n",
      "CholCheck                1.0\n",
      "BMI                     89.0\n",
      "Smoker                   0.0\n",
      "HeartDiseaseorAttack     0.0\n",
      "PhysActivity             0.0\n",
      "Fruits                   0.0\n",
      "Veggies                  1.0\n",
      "HvyAlcoholConsump        0.0\n",
      "GenHlth                  5.0\n",
      "MentHlth                30.0\n",
      "PhysHlth                20.0\n",
      "DiffWalk                 1.0\n",
      "Diabetes                 1.0\n",
      "Hypertension             1.0\n",
      "Stroke                   0.0\n",
      "Name: 64955, dtype: float64\n"
     ]
    }
   ],
   "source": [
    "for i in range(len(data)):\n",
    "  if data.iloc[i]['BMI']>=85:\n",
    "    print(data.iloc[i])"
   ]
  }
 ],
 "metadata": {
  "kernelspec": {
   "display_name": "Python 3",
   "language": "python",
   "name": "python3"
  },
  "language_info": {
   "codemirror_mode": {
    "name": "ipython",
    "version": 3
   },
   "file_extension": ".py",
   "mimetype": "text/x-python",
   "name": "python",
   "nbconvert_exporter": "python",
   "pygments_lexer": "ipython3",
   "version": "3.7.4"
  },
  "orig_nbformat": 4,
  "vscode": {
   "interpreter": {
    "hash": "1441dde290773fec14fdcfbf1ad695e4e30532176d5aab107e9922524eb83962"
   }
  }
 },
 "nbformat": 4,
 "nbformat_minor": 2
}
