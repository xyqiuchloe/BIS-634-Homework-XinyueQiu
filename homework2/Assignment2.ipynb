{
 "cells": [
  {
   "cell_type": "markdown",
   "metadata": {},
   "source": [
    "### Exercise 1\n",
    "#### Explain what went wrong (5 points). \n",
    "The reason why the system could not store the data is because after the data is loaded to the system, your friend used a for loop to create a new array that stores the exact same amount of data. So if the original file is 4GB, the storage would be 8GB in total. If there is other temporary files stored in the local environment, this would invoke a local memory error.\n",
    "\n",
    "#### Suggest a way of storing all the data in memory that would work (5 points), \n",
    "\n",
    "A way to solve this issue is to store the entries as strings, because strings are stored based on 4-bytes, while the default reading data type from python isfloat, which is 8-byte. This would help your friend to store the data using 2GB, which together with the originial file would be 6GB. If the rest of local memory does not exceed 2GB, this would not produce a memory error.  \n",
    "\n",
    "#### suggest a strategy for calculating the average that would not "
   ]
  },
  {
   "cell_type": "code",
   "execution_count": 1,
   "metadata": {},
   "outputs": [],
   "source": [
    "# with open('weights.txt') as f:\n",
    "#     sum = 0\n",
    "#     count = 0\n",
    "#     for line in f:\n",
    "#         sum += float(line)\n",
    "#         count += 1\n",
    "# print(\"average =\", sum / count )"
   ]
  },
  {
   "cell_type": "code",
   "execution_count": null,
   "metadata": {},
   "outputs": [],
   "source": []
  }
 ],
 "metadata": {
  "kernelspec": {
   "display_name": "Python 3.7.4",
   "language": "python",
   "name": "python3"
  },
  "language_info": {
   "codemirror_mode": {
    "name": "ipython",
    "version": 3
   },
   "file_extension": ".py",
   "mimetype": "text/x-python",
   "name": "python",
   "nbconvert_exporter": "python",
   "pygments_lexer": "ipython3",
   "version": "3.7.4"
  },
  "orig_nbformat": 4,
  "vscode": {
   "interpreter": {
    "hash": "1441dde290773fec14fdcfbf1ad695e4e30532176d5aab107e9922524eb83962"
   }
  }
 },
 "nbformat": 4,
 "nbformat_minor": 2
}
