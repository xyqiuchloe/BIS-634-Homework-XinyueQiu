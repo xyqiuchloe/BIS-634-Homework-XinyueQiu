{
 "cells": [
  {
   "cell_type": "code",
   "execution_count": 1,
   "metadata": {},
   "outputs": [],
   "source": [
    "import xml.etree.ElementTree as ET\n",
    "\n",
    "tree = ET.parse('desc2022.xml')\n",
    "root = tree.getroot()\n",
    "\n"
   ]
  },
  {
   "cell_type": "code",
   "execution_count": 2,
   "metadata": {},
   "outputs": [],
   "source": [
    "def find_descriptor_name_given_UI(des_UI):\n",
    "  for record in root.iter(\"DescriptorRecord\"):\n",
    "    if record.find('DescriptorUI').text == des_UI:\n",
    "      return(record.find('DescriptorName/String').text)\n",
    "\n"
   ]
  },
  {
   "cell_type": "code",
   "execution_count": 3,
   "metadata": {},
   "outputs": [
    {
     "data": {
      "text/plain": [
       "'Immune System Diseases'"
      ]
     },
     "execution_count": 3,
     "metadata": {},
     "output_type": "execute_result"
    }
   ],
   "source": [
    "find_descriptor_name_given_UI('D007154')"
   ]
  },
  {
   "cell_type": "code",
   "execution_count": 4,
   "metadata": {},
   "outputs": [],
   "source": [
    "def find_descriptor_UI_given_name(des_name):\n",
    "  for record in root.iter('DescriptorRecord'):\n",
    "    if record.find(\"DescriptorName/String\").text == des_name:\n",
    "      return(record.find('DescriptorUI').text)\n",
    "  "
   ]
  },
  {
   "cell_type": "code",
   "execution_count": 5,
   "metadata": {},
   "outputs": [
    {
     "data": {
      "text/plain": [
       "'D009422'"
      ]
     },
     "execution_count": 5,
     "metadata": {},
     "output_type": "execute_result"
    }
   ],
   "source": [
    "find_descriptor_UI_given_name('Nervous System Diseases')"
   ]
  },
  {
   "cell_type": "markdown",
   "metadata": {},
   "source": [
    "the DescriptorName associated with DescriptorUI D007154 is 'Immune System Disease'\n",
    "the DescriptorUI associated with DescriptorName \"Nervous System Diseases\" is 'D009422'"
   ]
  },
  {
   "cell_type": "code",
   "execution_count": 6,
   "metadata": {},
   "outputs": [],
   "source": [
    "def find_descriptor_name_given_UI_name(des_name,des_UI):\n",
    "  #find our tree numbers\n",
    "  for record in root.iter(\"DescriptorRecord\"):\n",
    "    if record.find('DescriptorUI').text == des_UI:\n",
    "      num1 = (record.find('TreeNumberList/TreeNumber').text)\n",
    "  for record in root.iter('DescriptorRecord'):\n",
    "    if record.find(\"DescriptorName/String\").text == 'Nervous System Diseases':\n",
    "      num2 = (record.find('TreeNumberList/TreeNumber').text)\n",
    "\n",
    "  #then proceed to storing lists of descriptor names\n",
    "  \n",
    "  stored_c10 =[]\n",
    "  for record in root.iter('DescriptorRecord'):\n",
    "    for tree_num_list in record.iter('TreeNumberList'):\n",
    "      for tree_num in tree_num_list.iter('TreeNumber'):\n",
    "        if (tree_num.text)[:3] == num1:\n",
    "          stored_c10.append(record.find('DescriptorName/String').text)\n",
    "  \n",
    "  stored_c20 =[]\n",
    "  for record in root.iter('DescriptorRecord'):\n",
    "    for tree_num_list in record.iter('TreeNumberList'):\n",
    "      for tree_num in tree_num_list.iter('TreeNumber'):\n",
    "        if (tree_num.text)[:3] == num2:\n",
    "          stored_c20.append(record.find('DescriptorName/String').text)\n",
    "\n",
    "  #find overlapping names\n",
    "  intersect_list = set([value for value in stored_c10 if value in stored_c20])\n",
    "  return(intersect_list)\n",
    "\n"
   ]
  },
  {
   "cell_type": "code",
   "execution_count": 7,
   "metadata": {},
   "outputs": [],
   "source": [
    "result = find_descriptor_name_given_UI_name('Nervous System Diseases','D007154')"
   ]
  },
  {
   "cell_type": "code",
   "execution_count": 8,
   "metadata": {},
   "outputs": [
    {
     "data": {
      "text/plain": [
       "{'AIDS Arteritis, Central Nervous System',\n",
       " 'AIDS Dementia Complex',\n",
       " 'Anti-N-Methyl-D-Aspartate Receptor Encephalitis',\n",
       " 'Ataxia Telangiectasia',\n",
       " 'Autoimmune Diseases of the Nervous System',\n",
       " 'Autoimmune Hypophysitis',\n",
       " 'Demyelinating Autoimmune Diseases, CNS',\n",
       " 'Diffuse Cerebral Sclerosis of Schilder',\n",
       " 'Encephalomyelitis, Acute Disseminated',\n",
       " 'Encephalomyelitis, Autoimmune, Experimental',\n",
       " 'Giant Cell Arteritis',\n",
       " 'Guillain-Barre Syndrome',\n",
       " 'Kernicterus',\n",
       " 'Lambert-Eaton Myasthenic Syndrome',\n",
       " 'Leukoencephalitis, Acute Hemorrhagic',\n",
       " 'Lupus Vasculitis, Central Nervous System',\n",
       " 'Mevalonate Kinase Deficiency',\n",
       " 'Microscopic Polyangiitis',\n",
       " 'Miller Fisher Syndrome',\n",
       " 'Multiple Sclerosis',\n",
       " 'Multiple Sclerosis, Chronic Progressive',\n",
       " 'Multiple Sclerosis, Relapsing-Remitting',\n",
       " 'Myasthenia Gravis',\n",
       " 'Myasthenia Gravis, Autoimmune, Experimental',\n",
       " 'Myasthenia Gravis, Neonatal',\n",
       " 'Myelitis, Transverse',\n",
       " 'Nervous System Autoimmune Disease, Experimental',\n",
       " 'Neuritis, Autoimmune, Experimental',\n",
       " 'Neuromyelitis Optica',\n",
       " 'POEMS Syndrome',\n",
       " 'Polyradiculoneuropathy',\n",
       " 'Polyradiculoneuropathy, Chronic Inflammatory Demyelinating',\n",
       " 'Stiff-Person Syndrome',\n",
       " 'Uveomeningoencephalitic Syndrome',\n",
       " 'Vasculitis, Central Nervous System'}"
      ]
     },
     "execution_count": 8,
     "metadata": {},
     "output_type": "execute_result"
    }
   ],
   "source": [
    "result"
   ]
  },
  {
   "cell_type": "markdown",
   "metadata": {},
   "source": [
    "I think biologically, the finding indicates that this list of identified diseases are both nervous system diseases and immune system diseases. Patients with these types of diseases should pay due attention to both nervous system as well as immune system, or for patients with both nervous and immune system diseases this list would be a good way to start with for diagnosis.\n",
    " Yes, these functions are generic."
   ]
  }
 ],
 "metadata": {
  "kernelspec": {
   "display_name": "Python 3.8.2 32-bit",
   "language": "python",
   "name": "python3"
  },
  "language_info": {
   "codemirror_mode": {
    "name": "ipython",
    "version": 3
   },
   "file_extension": ".py",
   "mimetype": "text/x-python",
   "name": "python",
   "nbconvert_exporter": "python",
   "pygments_lexer": "ipython3",
   "version": "3.8.2"
  },
  "orig_nbformat": 4,
  "vscode": {
   "interpreter": {
    "hash": "bd0d7732497f0ca8e8e06e69354e4df667581576b9ea575e71f7ab66d2bd91d2"
   }
  }
 },
 "nbformat": 4,
 "nbformat_minor": 2
}
